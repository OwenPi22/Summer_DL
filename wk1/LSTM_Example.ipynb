{
 "cells": [
  {
   "cell_type": "code",
   "execution_count": 1,
   "metadata": {},
   "outputs": [
    {
     "name": "stderr",
     "output_type": "stream",
     "text": [
      "Using TensorFlow backend.\n"
     ]
    }
   ],
   "source": [
    "import os\n",
    "import datetime\n",
    "\n",
    "import IPython\n",
    "import IPython.display\n",
    "import matplotlib as mpl\n",
    "import matplotlib.pyplot as plt\n",
    "import numpy as np\n",
    "import pandas as pd\n",
    "import seaborn as sns\n",
    "import tensorflow as tf\n",
    "from keras.models import Sequential\n",
    "from keras.layers import LSTM\n",
    "from keras.layers import Dense\n",
    "from keras.layers import SimpleRNN\n",
    "from keras.preprocessing.sequence import TimeseriesGenerator"
   ]
  },
  {
   "cell_type": "code",
   "execution_count": 2,
   "metadata": {},
   "outputs": [],
   "source": [
    "flight_df = sns.load_dataset(\"flights\")"
   ]
  },
  {
   "cell_type": "code",
   "execution_count": 3,
   "metadata": {},
   "outputs": [
    {
     "data": {
      "text/html": [
       "<div>\n",
       "<style scoped>\n",
       "    .dataframe tbody tr th:only-of-type {\n",
       "        vertical-align: middle;\n",
       "    }\n",
       "\n",
       "    .dataframe tbody tr th {\n",
       "        vertical-align: top;\n",
       "    }\n",
       "\n",
       "    .dataframe thead th {\n",
       "        text-align: right;\n",
       "    }\n",
       "</style>\n",
       "<table border=\"1\" class=\"dataframe\">\n",
       "  <thead>\n",
       "    <tr style=\"text-align: right;\">\n",
       "      <th></th>\n",
       "      <th>year</th>\n",
       "      <th>month</th>\n",
       "      <th>passengers</th>\n",
       "    </tr>\n",
       "  </thead>\n",
       "  <tbody>\n",
       "    <tr>\n",
       "      <th>0</th>\n",
       "      <td>1949</td>\n",
       "      <td>Jan</td>\n",
       "      <td>112</td>\n",
       "    </tr>\n",
       "    <tr>\n",
       "      <th>1</th>\n",
       "      <td>1949</td>\n",
       "      <td>Feb</td>\n",
       "      <td>118</td>\n",
       "    </tr>\n",
       "    <tr>\n",
       "      <th>2</th>\n",
       "      <td>1949</td>\n",
       "      <td>Mar</td>\n",
       "      <td>132</td>\n",
       "    </tr>\n",
       "    <tr>\n",
       "      <th>3</th>\n",
       "      <td>1949</td>\n",
       "      <td>Apr</td>\n",
       "      <td>129</td>\n",
       "    </tr>\n",
       "    <tr>\n",
       "      <th>4</th>\n",
       "      <td>1949</td>\n",
       "      <td>May</td>\n",
       "      <td>121</td>\n",
       "    </tr>\n",
       "  </tbody>\n",
       "</table>\n",
       "</div>"
      ],
      "text/plain": [
       "   year month  passengers\n",
       "0  1949   Jan         112\n",
       "1  1949   Feb         118\n",
       "2  1949   Mar         132\n",
       "3  1949   Apr         129\n",
       "4  1949   May         121"
      ]
     },
     "execution_count": 3,
     "metadata": {},
     "output_type": "execute_result"
    }
   ],
   "source": [
    "flight_df.head()"
   ]
  },
  {
   "cell_type": "code",
   "execution_count": 4,
   "metadata": {},
   "outputs": [
    {
     "data": {
      "image/png": "[encoded data removed]",
      "text/plain": [
       "<Figure size 864x360 with 1 Axes>"
      ]
     },
     "metadata": {
      "needs_background": "light"
     },
     "output_type": "display_data"
    }
   ],
   "source": [
    "plt.figure(figsize=[12., 5.])\n",
    "flight_df['passengers'].plot(kind='line');"
   ]
  },
  {
   "cell_type": "code",
   "execution_count": 32,
   "metadata": {},
   "outputs": [],
   "source": [
    "# Convert passenter data to float32 for PyTorch\n",
    "flight_df['passengers'] = flight_df['passengers'].astype(np.float32)\n",
    "\n",
    "# Reserve last 12 months as test set:\n",
    "train_data = flight_df['passengers'][:-12]\n",
    "valid_data = flight_df['passengers'][-12:]\n",
    "\n",
    "# scale data for better training and more stability\n",
    "train_mean = train_data.mean()\n",
    "train_std = train_data.std()\n",
    "\n",
    "train_data = (train_data - train_mean) / train_std\n",
    "valid_data = (valid_data - train_mean) / train_std"
   ]
  },
  {
   "cell_type": "code",
   "execution_count": 6,
   "metadata": {},
   "outputs": [],
   "source": [
    "train_gen = TimeseriesGenerator(train_data, train_data, length=12, sampling_rate=1, batch_size=1)"
   ]
  },
  {
   "cell_type": "code",
   "execution_count": 7,
   "metadata": {},
   "outputs": [],
   "source": [
    "train_X = []\n",
    "train_y = []\n",
    "for i in range(0, len(train_gen)):\n",
    "    x, y = train_gen[i]\n",
    "    train_X.append(np.array(x))\n",
    "    train_y.append(y[0])"
   ]
  },
  {
   "cell_type": "code",
   "execution_count": 8,
   "metadata": {},
   "outputs": [],
   "source": [
    "train_X = np.array(train_X)\n",
    "train_y = np.array(train_y)"
   ]
  },
  {
   "cell_type": "code",
   "execution_count": 9,
   "metadata": {},
   "outputs": [],
   "source": [
    "lstm_model = Sequential()\n",
    "lstm_model.add(LSTM(108, input_shape=(12, 1)))\n",
    "lstm_model.add(Dense(1))"
   ]
  },
  {
   "cell_type": "code",
   "execution_count": 10,
   "metadata": {},
   "outputs": [],
   "source": [
    "lstm_model.compile(\n",
    "    optimizer='SGD', loss=\"MSE\",  metrics=['accuracy']\n",
    ")"
   ]
  },
  {
   "cell_type": "code",
   "execution_count": 11,
   "metadata": {},
   "outputs": [
    {
     "name": "stdout",
     "output_type": "stream",
     "text": [
      "(120, 1, 12)\n",
      "(120,)\n"
     ]
    }
   ],
   "source": [
    "print(str(train_X.shape))\n",
    "print(str(train_y.shape))"
   ]
  },
  {
   "cell_type": "code",
   "execution_count": 12,
   "metadata": {},
   "outputs": [],
   "source": [
    "train_X = train_X.reshape(120, 12, 1)"
   ]
  },
  {
   "cell_type": "code",
   "execution_count": 13,
   "metadata": {},
   "outputs": [
    {
     "name": "stdout",
     "output_type": "stream",
     "text": [
      "Epoch 1/200\n",
      "120/120 [==============================] - 1s 11ms/step - loss: 0.4549 - accuracy: 0.0000e+00\n",
      "Epoch 2/200\n",
      "120/120 [==============================] - 0s 3ms/step - loss: 0.1933 - accuracy: 0.0000e+00\n",
      "Epoch 3/200\n",
      "120/120 [==============================] - 0s 3ms/step - loss: 0.1699 - accuracy: 0.0000e+00\n",
      "Epoch 4/200\n",
      "120/120 [==============================] - 0s 3ms/step - loss: 0.1699 - accuracy: 0.0000e+00\n",
      "Epoch 5/200\n",
      "120/120 [==============================] - 0s 3ms/step - loss: 0.1686 - accuracy: 0.0000e+00\n",
      "Epoch 6/200\n",
      "120/120 [==============================] - 0s 3ms/step - loss: 0.1681 - accuracy: 0.0000e+00\n",
      "Epoch 7/200\n",
      "120/120 [==============================] - 0s 3ms/step - loss: 0.1680 - accuracy: 0.0000e+00\n",
      "Epoch 8/200\n",
      "120/120 [==============================] - 0s 3ms/step - loss: 0.1673 - accuracy: 0.0000e+00\n",
      "Epoch 9/200\n",
      "120/120 [==============================] - 0s 3ms/step - loss: 0.1660 - accuracy: 0.0000e+00\n",
      "Epoch 10/200\n",
      "120/120 [==============================] - 0s 3ms/step - loss: 0.1669 - accuracy: 0.0000e+00\n",
      "Epoch 11/200\n",
      "120/120 [==============================] - 0s 3ms/step - loss: 0.1648 - accuracy: 0.0000e+00\n",
      "Epoch 12/200\n",
      "120/120 [==============================] - 0s 3ms/step - loss: 0.1641 - accuracy: 0.0000e+00\n",
      "Epoch 13/200\n",
      "120/120 [==============================] - 0s 3ms/step - loss: 0.1628 - accuracy: 0.0000e+00\n",
      "Epoch 14/200\n",
      "120/120 [==============================] - 0s 3ms/step - loss: 0.1633 - accuracy: 0.0000e+00\n",
      "Epoch 15/200\n",
      "120/120 [==============================] - 0s 3ms/step - loss: 0.1614 - accuracy: 0.0000e+00\n",
      "Epoch 16/200\n",
      "120/120 [==============================] - 0s 3ms/step - loss: 0.1616 - accuracy: 0.0000e+00\n",
      "Epoch 17/200\n",
      "120/120 [==============================] - 0s 3ms/step - loss: 0.1603 - accuracy: 0.0000e+00\n",
      "Epoch 18/200\n",
      "120/120 [==============================] - 0s 3ms/step - loss: 0.1594 - accuracy: 0.0000e+00\n",
      "Epoch 19/200\n",
      "120/120 [==============================] - 0s 3ms/step - loss: 0.1617 - accuracy: 0.0000e+00\n",
      "Epoch 20/200\n",
      "120/120 [==============================] - 0s 3ms/step - loss: 0.1604 - accuracy: 0.0000e+00\n",
      "Epoch 21/200\n",
      "120/120 [==============================] - 0s 3ms/step - loss: 0.1590 - accuracy: 0.0000e+00\n",
      "Epoch 22/200\n",
      "120/120 [==============================] - 0s 3ms/step - loss: 0.1574 - accuracy: 0.0000e+00\n",
      "Epoch 23/200\n",
      "120/120 [==============================] - 0s 3ms/step - loss: 0.1567 - accuracy: 0.0000e+00\n",
      "Epoch 24/200\n",
      "120/120 [==============================] - 0s 3ms/step - loss: 0.1538 - accuracy: 0.0000e+00\n",
      "Epoch 25/200\n",
      "120/120 [==============================] - 0s 3ms/step - loss: 0.1543 - accuracy: 0.0000e+00\n",
      "Epoch 26/200\n",
      "120/120 [==============================] - 0s 3ms/step - loss: 0.1547 - accuracy: 0.0000e+00\n",
      "Epoch 27/200\n",
      "120/120 [==============================] - 0s 3ms/step - loss: 0.1526 - accuracy: 0.0000e+00\n",
      "Epoch 28/200\n",
      "120/120 [==============================] - 0s 3ms/step - loss: 0.1547 - accuracy: 0.0000e+00\n",
      "Epoch 29/200\n",
      "120/120 [==============================] - 0s 3ms/step - loss: 0.1521 - accuracy: 0.0000e+00\n",
      "Epoch 30/200\n",
      "120/120 [==============================] - 0s 3ms/step - loss: 0.1500 - accuracy: 0.0000e+00\n",
      "Epoch 31/200\n",
      "120/120 [==============================] - 0s 3ms/step - loss: 0.1511 - accuracy: 0.0000e+00\n",
      "Epoch 32/200\n",
      "120/120 [==============================] - 0s 3ms/step - loss: 0.1494 - accuracy: 0.0000e+00\n",
      "Epoch 33/200\n",
      "120/120 [==============================] - 0s 3ms/step - loss: 0.1491 - accuracy: 0.0000e+00\n",
      "Epoch 34/200\n",
      "120/120 [==============================] - 0s 3ms/step - loss: 0.1495 - accuracy: 0.0000e+00\n",
      "Epoch 35/200\n",
      "120/120 [==============================] - 0s 3ms/step - loss: 0.1505 - accuracy: 0.0000e+00\n",
      "Epoch 36/200\n",
      "120/120 [==============================] - 0s 3ms/step - loss: 0.1468 - accuracy: 0.0000e+00\n",
      "Epoch 37/200\n",
      "120/120 [==============================] - 0s 3ms/step - loss: 0.1450 - accuracy: 0.0000e+00\n",
      "Epoch 38/200\n",
      "120/120 [==============================] - 0s 3ms/step - loss: 0.1441 - accuracy: 0.0000e+00\n",
      "Epoch 39/200\n",
      "120/120 [==============================] - 0s 3ms/step - loss: 0.1439 - accuracy: 0.0000e+00\n",
      "Epoch 40/200\n",
      "120/120 [==============================] - 0s 3ms/step - loss: 0.1429 - accuracy: 0.0000e+00\n",
      "Epoch 41/200\n",
      "120/120 [==============================] - 0s 3ms/step - loss: 0.1445 - accuracy: 0.0000e+00\n",
      "Epoch 42/200\n",
      "120/120 [==============================] - 0s 3ms/step - loss: 0.1421 - accuracy: 0.0000e+00\n",
      "Epoch 43/200\n",
      "120/120 [==============================] - 0s 3ms/step - loss: 0.1415 - accuracy: 0.0000e+00\n",
      "Epoch 44/200\n",
      "120/120 [==============================] - 0s 3ms/step - loss: 0.1392 - accuracy: 0.0000e+00\n",
      "Epoch 45/200\n",
      "120/120 [==============================] - 0s 3ms/step - loss: 0.1395 - accuracy: 0.0000e+00\n",
      "Epoch 46/200\n",
      "120/120 [==============================] - 0s 3ms/step - loss: 0.1385 - accuracy: 0.0000e+00\n",
      "Epoch 47/200\n",
      "120/120 [==============================] - 0s 3ms/step - loss: 0.1377 - accuracy: 0.0000e+00\n",
      "Epoch 48/200\n",
      "120/120 [==============================] - 0s 3ms/step - loss: 0.1368 - accuracy: 0.0000e+00\n",
      "Epoch 49/200\n",
      "120/120 [==============================] - 0s 3ms/step - loss: 0.1358 - accuracy: 0.0000e+00\n",
      "Epoch 50/200\n",
      "120/120 [==============================] - 0s 3ms/step - loss: 0.1349 - accuracy: 0.0000e+00\n",
      "Epoch 51/200\n",
      "120/120 [==============================] - 0s 3ms/step - loss: 0.1335 - accuracy: 0.0000e+00\n",
      "Epoch 52/200\n",
      "120/120 [==============================] - 0s 3ms/step - loss: 0.1347 - accuracy: 0.0000e+00\n",
      "Epoch 53/200\n",
      "120/120 [==============================] - 0s 3ms/step - loss: 0.1315 - accuracy: 0.0000e+00\n",
      "Epoch 54/200\n",
      "120/120 [==============================] - 0s 3ms/step - loss: 0.1311 - accuracy: 0.0000e+00\n",
      "Epoch 55/200\n",
      "120/120 [==============================] - 0s 3ms/step - loss: 0.1301 - accuracy: 0.0000e+00\n",
      "Epoch 56/200\n",
      "120/120 [==============================] - 0s 3ms/step - loss: 0.1279 - accuracy: 0.0000e+00\n",
      "Epoch 57/200\n",
      "120/120 [==============================] - 0s 3ms/step - loss: 0.1243 - accuracy: 0.0000e+00\n",
      "Epoch 58/200\n",
      "120/120 [==============================] - 0s 3ms/step - loss: 0.1258 - accuracy: 0.0000e+00\n",
      "Epoch 59/200\n",
      "120/120 [==============================] - 0s 3ms/step - loss: 0.1258 - accuracy: 0.0000e+00\n",
      "Epoch 60/200\n",
      "120/120 [==============================] - 0s 3ms/step - loss: 0.1221 - accuracy: 0.0000e+00\n",
      "Epoch 61/200\n",
      "120/120 [==============================] - 0s 3ms/step - loss: 0.1238 - accuracy: 0.0000e+00\n",
      "Epoch 62/200\n",
      "120/120 [==============================] - 0s 3ms/step - loss: 0.1232 - accuracy: 0.0000e+00\n",
      "Epoch 63/200\n",
      "120/120 [==============================] - 0s 3ms/step - loss: 0.1197 - accuracy: 0.0000e+00\n",
      "Epoch 64/200\n",
      "120/120 [==============================] - 0s 3ms/step - loss: 0.1213 - accuracy: 0.0000e+00\n",
      "Epoch 65/200\n",
      "120/120 [==============================] - 0s 3ms/step - loss: 0.1191 - accuracy: 0.0000e+00\n",
      "Epoch 66/200\n",
      "120/120 [==============================] - 0s 3ms/step - loss: 0.1159 - accuracy: 0.0000e+00\n",
      "Epoch 67/200\n",
      "120/120 [==============================] - 0s 3ms/step - loss: 0.1128 - accuracy: 0.0000e+00\n",
      "Epoch 68/200\n",
      "120/120 [==============================] - 0s 3ms/step - loss: 0.1150 - accuracy: 0.0000e+00\n",
      "Epoch 69/200\n",
      "120/120 [==============================] - 0s 3ms/step - loss: 0.1142 - accuracy: 0.0000e+00\n",
      "Epoch 70/200\n",
      "120/120 [==============================] - 0s 3ms/step - loss: 0.1116 - accuracy: 0.0000e+00\n",
      "Epoch 71/200\n",
      "120/120 [==============================] - 0s 3ms/step - loss: 0.1102 - accuracy: 0.0000e+00\n",
      "Epoch 72/200\n",
      "120/120 [==============================] - 0s 3ms/step - loss: 0.1091 - accuracy: 0.0000e+00\n",
      "Epoch 73/200\n",
      "120/120 [==============================] - 0s 3ms/step - loss: 0.1094 - accuracy: 0.0000e+00\n",
      "Epoch 74/200\n",
      "120/120 [==============================] - 0s 3ms/step - loss: 0.1046 - accuracy: 0.0000e+00\n",
      "Epoch 75/200\n",
      "120/120 [==============================] - 0s 3ms/step - loss: 0.1061 - accuracy: 0.0000e+00\n",
      "Epoch 76/200\n",
      "120/120 [==============================] - 0s 3ms/step - loss: 0.1029 - accuracy: 0.0000e+00\n",
      "Epoch 77/200\n",
      "120/120 [==============================] - 0s 3ms/step - loss: 0.1001 - accuracy: 0.0000e+00\n",
      "Epoch 78/200\n"
     ]
    },
    {
     "name": "stdout",
     "output_type": "stream",
     "text": [
      "120/120 [==============================] - 0s 3ms/step - loss: 0.0998 - accuracy: 0.0000e+00\n",
      "Epoch 79/200\n",
      "120/120 [==============================] - 0s 3ms/step - loss: 0.0973 - accuracy: 0.0000e+00\n",
      "Epoch 80/200\n",
      "120/120 [==============================] - 0s 3ms/step - loss: 0.0967 - accuracy: 0.0000e+00\n",
      "Epoch 81/200\n",
      "120/120 [==============================] - 0s 3ms/step - loss: 0.0956 - accuracy: 0.0000e+00\n",
      "Epoch 82/200\n",
      "120/120 [==============================] - 0s 3ms/step - loss: 0.0931 - accuracy: 0.0000e+00\n",
      "Epoch 83/200\n",
      "120/120 [==============================] - 0s 3ms/step - loss: 0.0914 - accuracy: 0.0000e+00\n",
      "Epoch 84/200\n",
      "120/120 [==============================] - 0s 3ms/step - loss: 0.0907 - accuracy: 0.0000e+00\n",
      "Epoch 85/200\n",
      "120/120 [==============================] - 0s 3ms/step - loss: 0.0880 - accuracy: 0.0000e+00\n",
      "Epoch 86/200\n",
      "120/120 [==============================] - 0s 3ms/step - loss: 0.0883 - accuracy: 0.0000e+00\n",
      "Epoch 87/200\n",
      "120/120 [==============================] - 0s 3ms/step - loss: 0.0847 - accuracy: 0.0000e+00\n",
      "Epoch 88/200\n",
      "120/120 [==============================] - 0s 3ms/step - loss: 0.0840 - accuracy: 0.0000e+00\n",
      "Epoch 89/200\n",
      "120/120 [==============================] - 0s 3ms/step - loss: 0.0857 - accuracy: 0.0000e+00\n",
      "Epoch 90/200\n",
      "120/120 [==============================] - 0s 3ms/step - loss: 0.0826 - accuracy: 0.0000e+00\n",
      "Epoch 91/200\n",
      "120/120 [==============================] - 0s 3ms/step - loss: 0.0797 - accuracy: 0.0000e+00\n",
      "Epoch 92/200\n",
      "120/120 [==============================] - 0s 3ms/step - loss: 0.0783 - accuracy: 0.0000e+00\n",
      "Epoch 93/200\n",
      "120/120 [==============================] - 0s 3ms/step - loss: 0.0793 - accuracy: 0.0000e+00\n",
      "Epoch 94/200\n",
      "120/120 [==============================] - 0s 3ms/step - loss: 0.0758 - accuracy: 0.0000e+00\n",
      "Epoch 95/200\n",
      "120/120 [==============================] - 0s 3ms/step - loss: 0.0747 - accuracy: 0.0000e+00\n",
      "Epoch 96/200\n",
      "120/120 [==============================] - 0s 3ms/step - loss: 0.0740 - accuracy: 0.0000e+00\n",
      "Epoch 97/200\n",
      "120/120 [==============================] - 0s 3ms/step - loss: 0.0721 - accuracy: 0.0000e+00\n",
      "Epoch 98/200\n",
      "120/120 [==============================] - 0s 3ms/step - loss: 0.0728 - accuracy: 0.0000e+00\n",
      "Epoch 99/200\n",
      "120/120 [==============================] - 0s 3ms/step - loss: 0.0703 - accuracy: 0.0000e+00\n",
      "Epoch 100/200\n",
      "120/120 [==============================] - 0s 3ms/step - loss: 0.0687 - accuracy: 0.0000e+00\n",
      "Epoch 101/200\n",
      "120/120 [==============================] - 0s 3ms/step - loss: 0.0688 - accuracy: 0.0000e+00\n",
      "Epoch 102/200\n",
      "120/120 [==============================] - 0s 3ms/step - loss: 0.0661 - accuracy: 0.0000e+00\n",
      "Epoch 103/200\n",
      "120/120 [==============================] - 0s 3ms/step - loss: 0.0657 - accuracy: 0.0000e+00\n",
      "Epoch 104/200\n",
      "120/120 [==============================] - 0s 3ms/step - loss: 0.0640 - accuracy: 0.0000e+00\n",
      "Epoch 105/200\n",
      "120/120 [==============================] - 0s 3ms/step - loss: 0.0646 - accuracy: 0.0000e+00\n",
      "Epoch 106/200\n",
      "120/120 [==============================] - 0s 3ms/step - loss: 0.0635 - accuracy: 0.0000e+00\n",
      "Epoch 107/200\n",
      "120/120 [==============================] - 0s 3ms/step - loss: 0.0633 - accuracy: 0.0000e+00\n",
      "Epoch 108/200\n",
      "120/120 [==============================] - 0s 3ms/step - loss: 0.0609 - accuracy: 0.0000e+00\n",
      "Epoch 109/200\n",
      "120/120 [==============================] - 0s 3ms/step - loss: 0.0625 - accuracy: 0.0000e+00\n",
      "Epoch 110/200\n",
      "120/120 [==============================] - 0s 3ms/step - loss: 0.0603 - accuracy: 0.0000e+00\n",
      "Epoch 111/200\n",
      "120/120 [==============================] - 0s 3ms/step - loss: 0.0625 - accuracy: 0.0000e+00\n",
      "Epoch 112/200\n",
      "120/120 [==============================] - 0s 3ms/step - loss: 0.0600 - accuracy: 0.0000e+00\n",
      "Epoch 113/200\n",
      "120/120 [==============================] - 0s 3ms/step - loss: 0.0578 - accuracy: 0.0000e+00\n",
      "Epoch 114/200\n",
      "120/120 [==============================] - 0s 3ms/step - loss: 0.0572 - accuracy: 0.0000e+00\n",
      "Epoch 115/200\n",
      "120/120 [==============================] - 0s 3ms/step - loss: 0.0582 - accuracy: 0.0000e+00\n",
      "Epoch 116/200\n",
      "120/120 [==============================] - 0s 3ms/step - loss: 0.0580 - accuracy: 0.0000e+00\n",
      "Epoch 117/200\n",
      "120/120 [==============================] - 0s 3ms/step - loss: 0.0564 - accuracy: 0.0000e+00\n",
      "Epoch 118/200\n",
      "120/120 [==============================] - 0s 3ms/step - loss: 0.0556 - accuracy: 0.0000e+00\n",
      "Epoch 119/200\n",
      "120/120 [==============================] - 0s 3ms/step - loss: 0.0559 - accuracy: 0.0000e+00\n",
      "Epoch 120/200\n",
      "120/120 [==============================] - 0s 3ms/step - loss: 0.0550 - accuracy: 0.0000e+00\n",
      "Epoch 121/200\n",
      "120/120 [==============================] - 0s 3ms/step - loss: 0.0578 - accuracy: 0.0000e+00\n",
      "Epoch 122/200\n",
      "120/120 [==============================] - 0s 3ms/step - loss: 0.0539 - accuracy: 0.0000e+00\n",
      "Epoch 123/200\n",
      "120/120 [==============================] - 0s 3ms/step - loss: 0.0524 - accuracy: 0.0000e+00\n",
      "Epoch 124/200\n",
      "120/120 [==============================] - 0s 3ms/step - loss: 0.0513 - accuracy: 0.0000e+00\n",
      "Epoch 125/200\n",
      "120/120 [==============================] - 0s 3ms/step - loss: 0.0520 - accuracy: 0.0000e+00\n",
      "Epoch 126/200\n",
      "120/120 [==============================] - 0s 3ms/step - loss: 0.0555 - accuracy: 0.0000e+00\n",
      "Epoch 127/200\n",
      "120/120 [==============================] - 0s 3ms/step - loss: 0.0515 - accuracy: 0.0000e+00\n",
      "Epoch 128/200\n",
      "120/120 [==============================] - 0s 3ms/step - loss: 0.0548 - accuracy: 0.0000e+00\n",
      "Epoch 129/200\n",
      "120/120 [==============================] - 0s 3ms/step - loss: 0.0562 - accuracy: 0.0000e+00\n",
      "Epoch 130/200\n",
      "120/120 [==============================] - 0s 3ms/step - loss: 0.0521 - accuracy: 0.0000e+00\n",
      "Epoch 131/200\n",
      "120/120 [==============================] - 0s 3ms/step - loss: 0.0535 - accuracy: 0.0000e+00\n",
      "Epoch 132/200\n",
      "120/120 [==============================] - 0s 3ms/step - loss: 0.0540 - accuracy: 0.0000e+00\n",
      "Epoch 133/200\n",
      "120/120 [==============================] - 0s 3ms/step - loss: 0.0511 - accuracy: 0.0000e+00\n",
      "Epoch 134/200\n",
      "120/120 [==============================] - 0s 3ms/step - loss: 0.0556 - accuracy: 0.0000e+00\n",
      "Epoch 135/200\n",
      "120/120 [==============================] - 0s 3ms/step - loss: 0.0532 - accuracy: 0.0000e+00\n",
      "Epoch 136/200\n",
      "120/120 [==============================] - 0s 3ms/step - loss: 0.0495 - accuracy: 0.0000e+00\n",
      "Epoch 137/200\n",
      "120/120 [==============================] - 0s 3ms/step - loss: 0.0534 - accuracy: 0.0000e+00\n",
      "Epoch 138/200\n",
      "120/120 [==============================] - 0s 3ms/step - loss: 0.0522 - accuracy: 0.0000e+00\n",
      "Epoch 139/200\n",
      "120/120 [==============================] - 0s 3ms/step - loss: 0.0518 - accuracy: 0.0000e+00\n",
      "Epoch 140/200\n",
      "120/120 [==============================] - 0s 3ms/step - loss: 0.0538 - accuracy: 0.0000e+00\n",
      "Epoch 141/200\n",
      "120/120 [==============================] - 0s 3ms/step - loss: 0.0524 - accuracy: 0.0000e+00\n",
      "Epoch 142/200\n",
      "120/120 [==============================] - 0s 3ms/step - loss: 0.0524 - accuracy: 0.0000e+00\n",
      "Epoch 143/200\n",
      "120/120 [==============================] - 0s 3ms/step - loss: 0.0524 - accuracy: 0.0000e+00\n",
      "Epoch 144/200\n",
      "120/120 [==============================] - 0s 3ms/step - loss: 0.0520 - accuracy: 0.0000e+00\n",
      "Epoch 145/200\n",
      "120/120 [==============================] - 0s 3ms/step - loss: 0.0510 - accuracy: 0.0000e+00\n",
      "Epoch 146/200\n",
      "120/120 [==============================] - 0s 3ms/step - loss: 0.0523 - accuracy: 0.0000e+00\n",
      "Epoch 147/200\n",
      "120/120 [==============================] - 0s 3ms/step - loss: 0.0510 - accuracy: 0.0000e+00\n",
      "Epoch 148/200\n",
      "120/120 [==============================] - 0s 3ms/step - loss: 0.0489 - accuracy: 0.0000e+00\n",
      "Epoch 149/200\n",
      "120/120 [==============================] - 0s 3ms/step - loss: 0.0503 - accuracy: 0.0000e+00\n",
      "Epoch 150/200\n",
      "120/120 [==============================] - 0s 3ms/step - loss: 0.0498 - accuracy: 0.0000e+00\n",
      "Epoch 151/200\n",
      "120/120 [==============================] - 0s 3ms/step - loss: 0.0505 - accuracy: 0.0000e+00\n",
      "Epoch 152/200\n",
      "120/120 [==============================] - 0s 3ms/step - loss: 0.0494 - accuracy: 0.0000e+00\n",
      "Epoch 153/200\n",
      "120/120 [==============================] - 0s 3ms/step - loss: 0.0544 - accuracy: 0.0000e+00\n",
      "Epoch 154/200\n"
     ]
    },
    {
     "name": "stdout",
     "output_type": "stream",
     "text": [
      "120/120 [==============================] - 0s 3ms/step - loss: 0.0490 - accuracy: 0.0000e+00\n",
      "Epoch 155/200\n",
      "120/120 [==============================] - 0s 3ms/step - loss: 0.0492 - accuracy: 0.0000e+00\n",
      "Epoch 156/200\n",
      "120/120 [==============================] - 0s 3ms/step - loss: 0.0526 - accuracy: 0.0000e+00\n",
      "Epoch 157/200\n",
      "120/120 [==============================] - 0s 3ms/step - loss: 0.0478 - accuracy: 0.0000e+00\n",
      "Epoch 158/200\n",
      "120/120 [==============================] - 0s 3ms/step - loss: 0.0509 - accuracy: 0.0000e+00\n",
      "Epoch 159/200\n",
      "120/120 [==============================] - 0s 3ms/step - loss: 0.0495 - accuracy: 0.0000e+00\n",
      "Epoch 160/200\n",
      "120/120 [==============================] - 0s 3ms/step - loss: 0.0507 - accuracy: 0.0000e+00\n",
      "Epoch 161/200\n",
      "120/120 [==============================] - 0s 3ms/step - loss: 0.0515 - accuracy: 0.0000e+00\n",
      "Epoch 162/200\n",
      "120/120 [==============================] - 0s 3ms/step - loss: 0.0553 - accuracy: 0.0000e+00\n",
      "Epoch 163/200\n",
      "120/120 [==============================] - 0s 3ms/step - loss: 0.0511 - accuracy: 0.0000e+00\n",
      "Epoch 164/200\n",
      "120/120 [==============================] - 0s 3ms/step - loss: 0.0446 - accuracy: 0.0000e+00\n",
      "Epoch 165/200\n",
      "120/120 [==============================] - 0s 3ms/step - loss: 0.0514 - accuracy: 0.0000e+00\n",
      "Epoch 166/200\n",
      "120/120 [==============================] - 0s 3ms/step - loss: 0.0488 - accuracy: 0.0000e+00\n",
      "Epoch 167/200\n",
      "120/120 [==============================] - 0s 3ms/step - loss: 0.0508 - accuracy: 0.0000e+00\n",
      "Epoch 168/200\n",
      "120/120 [==============================] - 0s 3ms/step - loss: 0.0506 - accuracy: 0.0000e+00\n",
      "Epoch 169/200\n",
      "120/120 [==============================] - 0s 3ms/step - loss: 0.0496 - accuracy: 0.0000e+00\n",
      "Epoch 170/200\n",
      "120/120 [==============================] - 0s 3ms/step - loss: 0.0522 - accuracy: 0.0000e+00\n",
      "Epoch 171/200\n",
      "120/120 [==============================] - 0s 3ms/step - loss: 0.0487 - accuracy: 0.0000e+00\n",
      "Epoch 172/200\n",
      "120/120 [==============================] - 0s 3ms/step - loss: 0.0541 - accuracy: 0.0000e+00\n",
      "Epoch 173/200\n",
      "120/120 [==============================] - 0s 3ms/step - loss: 0.0505 - accuracy: 0.0000e+00\n",
      "Epoch 174/200\n",
      "120/120 [==============================] - 0s 3ms/step - loss: 0.0497 - accuracy: 0.0000e+00\n",
      "Epoch 175/200\n",
      "120/120 [==============================] - 0s 3ms/step - loss: 0.0496 - accuracy: 0.0000e+00\n",
      "Epoch 176/200\n",
      "120/120 [==============================] - 0s 3ms/step - loss: 0.0483 - accuracy: 0.0000e+00\n",
      "Epoch 177/200\n",
      "120/120 [==============================] - 0s 3ms/step - loss: 0.0497 - accuracy: 0.0000e+00\n",
      "Epoch 178/200\n",
      "120/120 [==============================] - 0s 3ms/step - loss: 0.0505 - accuracy: 0.0000e+00\n",
      "Epoch 179/200\n",
      "120/120 [==============================] - 0s 3ms/step - loss: 0.0477 - accuracy: 0.0000e+00\n",
      "Epoch 180/200\n",
      "120/120 [==============================] - 0s 3ms/step - loss: 0.0507 - accuracy: 0.0000e+00\n",
      "Epoch 181/200\n",
      "120/120 [==============================] - 0s 3ms/step - loss: 0.0507 - accuracy: 0.0000e+00\n",
      "Epoch 182/200\n",
      "120/120 [==============================] - 0s 3ms/step - loss: 0.0483 - accuracy: 0.0000e+00\n",
      "Epoch 183/200\n",
      "120/120 [==============================] - 0s 3ms/step - loss: 0.0485 - accuracy: 0.0000e+00\n",
      "Epoch 184/200\n",
      "120/120 [==============================] - 0s 3ms/step - loss: 0.0487 - accuracy: 0.0000e+00\n",
      "Epoch 185/200\n",
      "120/120 [==============================] - 0s 3ms/step - loss: 0.0479 - accuracy: 0.0000e+00\n",
      "Epoch 186/200\n",
      "120/120 [==============================] - 0s 3ms/step - loss: 0.0511 - accuracy: 0.0000e+00\n",
      "Epoch 187/200\n",
      "120/120 [==============================] - 0s 3ms/step - loss: 0.0487 - accuracy: 0.0000e+00\n",
      "Epoch 188/200\n",
      "120/120 [==============================] - 0s 3ms/step - loss: 0.0515 - accuracy: 0.0000e+00\n",
      "Epoch 189/200\n",
      "120/120 [==============================] - 0s 3ms/step - loss: 0.0495 - accuracy: 0.0000e+00\n",
      "Epoch 190/200\n",
      "120/120 [==============================] - 0s 3ms/step - loss: 0.0481 - accuracy: 0.0000e+00\n",
      "Epoch 191/200\n",
      "120/120 [==============================] - 0s 3ms/step - loss: 0.0496 - accuracy: 0.0000e+00\n",
      "Epoch 192/200\n",
      "120/120 [==============================] - 0s 3ms/step - loss: 0.0506 - accuracy: 0.0000e+00\n",
      "Epoch 193/200\n",
      "120/120 [==============================] - 0s 3ms/step - loss: 0.0489 - accuracy: 0.0000e+00\n",
      "Epoch 194/200\n",
      "120/120 [==============================] - 0s 3ms/step - loss: 0.0508 - accuracy: 0.0000e+00\n",
      "Epoch 195/200\n",
      "120/120 [==============================] - 0s 3ms/step - loss: 0.0452 - accuracy: 0.0000e+00\n",
      "Epoch 196/200\n",
      "120/120 [==============================] - 0s 3ms/step - loss: 0.0503 - accuracy: 0.0000e+00\n",
      "Epoch 197/200\n",
      "120/120 [==============================] - 0s 3ms/step - loss: 0.0481 - accuracy: 0.0000e+00\n",
      "Epoch 198/200\n",
      "120/120 [==============================] - 0s 3ms/step - loss: 0.0475 - accuracy: 0.0000e+00\n",
      "Epoch 199/200\n",
      "120/120 [==============================] - 0s 3ms/step - loss: 0.0460 - accuracy: 0.0000e+00\n",
      "Epoch 200/200\n",
      "120/120 [==============================] - 0s 3ms/step - loss: 0.0500 - accuracy: 0.0000e+00\n"
     ]
    }
   ],
   "source": [
    "history = lstm_model.fit(train_X, train_y, batch_size = 5, epochs = 200)"
   ]
  },
  {
   "cell_type": "code",
   "execution_count": 14,
   "metadata": {},
   "outputs": [
    {
     "data": {
      "text/plain": [
       "[<matplotlib.lines.Line2D at 0x7f8a4222e550>]"
      ]
     },
     "execution_count": 14,
     "metadata": {},
     "output_type": "execute_result"
    },
    {
     "data": {
      "image/png": "[encoded data removed]",
      "text/plain": [
       "<Figure size 432x288 with 1 Axes>"
      ]
     },
     "metadata": {
      "needs_background": "light"
     },
     "output_type": "display_data"
    }
   ],
   "source": [
    "plt.plot(history.history['loss'])"
   ]
  },
  {
   "cell_type": "code",
   "execution_count": 15,
   "metadata": {},
   "outputs": [],
   "source": [
    "train_y_pred = lstm_model.predict(train_X)\n",
    "temp = []\n",
    "\n",
    "for i in range(0, len(train_y_pred)):\n",
    "    temp.append(train_y_pred[i][0])\n",
    "    \n",
    "train_y_pred = temp"
   ]
  },
  {
   "cell_type": "code",
   "execution_count": 16,
   "metadata": {},
   "outputs": [
    {
     "data": {
      "text/plain": [
       "[<matplotlib.lines.Line2D at 0x7f8a42949790>]"
      ]
     },
     "execution_count": 16,
     "metadata": {},
     "output_type": "execute_result"
    },
    {
     "data": {
      "image/png": "[encoded data removed]",
      "text/plain": [
       "<Figure size 432x288 with 1 Axes>"
      ]
     },
     "metadata": {
      "needs_background": "light"
     },
     "output_type": "display_data"
    }
   ],
   "source": [
    "plt.plot(train_y_pred, color = \"red\")\n",
    "plt.plot(train_y)"
   ]
  },
  {
   "cell_type": "code",
   "execution_count": 17,
   "metadata": {},
   "outputs": [],
   "source": [
    "rnn_model = Sequential()\n",
    "rnn_model.add(SimpleRNN(108, input_shape=(12, 1)))\n",
    "rnn_model.add(Dense(1))"
   ]
  },
  {
   "cell_type": "code",
   "execution_count": 18,
   "metadata": {},
   "outputs": [],
   "source": [
    "rnn_model.compile(\n",
    "    optimizer='SGD', loss=\"MSE\",  metrics=['accuracy']\n",
    ")"
   ]
  },
  {
   "cell_type": "code",
   "execution_count": 19,
   "metadata": {},
   "outputs": [
    {
     "name": "stdout",
     "output_type": "stream",
     "text": [
      "Epoch 1/200\n",
      "120/120 [==============================] - 1s 6ms/step - loss: 0.1455 - accuracy: 0.0000e+00\n",
      "Epoch 2/200\n",
      "120/120 [==============================] - 0s 1ms/step - loss: 0.0586 - accuracy: 0.0000e+00\n",
      "Epoch 3/200\n",
      "120/120 [==============================] - 0s 1ms/step - loss: 0.0446 - accuracy: 0.0000e+00\n",
      "Epoch 4/200\n",
      "120/120 [==============================] - 0s 1ms/step - loss: 0.0403 - accuracy: 0.0000e+00\n",
      "Epoch 5/200\n",
      "120/120 [==============================] - 0s 1ms/step - loss: 0.0389 - accuracy: 0.0000e+00\n",
      "Epoch 6/200\n",
      "120/120 [==============================] - 0s 1ms/step - loss: 0.0372 - accuracy: 0.0000e+00\n",
      "Epoch 7/200\n",
      "120/120 [==============================] - 0s 1ms/step - loss: 0.0349 - accuracy: 0.0000e+00\n",
      "Epoch 8/200\n",
      "120/120 [==============================] - 0s 1ms/step - loss: 0.0342 - accuracy: 0.0000e+00\n",
      "Epoch 9/200\n",
      "120/120 [==============================] - 0s 1ms/step - loss: 0.0320 - accuracy: 0.0000e+00\n",
      "Epoch 10/200\n",
      "120/120 [==============================] - 0s 1ms/step - loss: 0.0303 - accuracy: 0.0000e+00\n",
      "Epoch 11/200\n",
      "120/120 [==============================] - 0s 1ms/step - loss: 0.0303 - accuracy: 0.0000e+00\n",
      "Epoch 12/200\n",
      "120/120 [==============================] - 0s 1ms/step - loss: 0.0305 - accuracy: 0.0000e+00\n",
      "Epoch 13/200\n",
      "120/120 [==============================] - 0s 1ms/step - loss: 0.0288 - accuracy: 0.0000e+00\n",
      "Epoch 14/200\n",
      "120/120 [==============================] - 0s 1ms/step - loss: 0.0312 - accuracy: 0.0000e+00\n",
      "Epoch 15/200\n",
      "120/120 [==============================] - 0s 1ms/step - loss: 0.0291 - accuracy: 0.0000e+00\n",
      "Epoch 16/200\n",
      "120/120 [==============================] - 0s 1ms/step - loss: 0.0268 - accuracy: 0.0000e+00\n",
      "Epoch 17/200\n",
      "120/120 [==============================] - 0s 1ms/step - loss: 0.0255 - accuracy: 0.0000e+00\n",
      "Epoch 18/200\n",
      "120/120 [==============================] - 0s 1ms/step - loss: 0.0280 - accuracy: 0.0000e+00\n",
      "Epoch 19/200\n",
      "120/120 [==============================] - 0s 1ms/step - loss: 0.0256 - accuracy: 0.0000e+00\n",
      "Epoch 20/200\n",
      "120/120 [==============================] - 0s 1ms/step - loss: 0.0254 - accuracy: 0.0000e+00\n",
      "Epoch 21/200\n",
      "120/120 [==============================] - 0s 1ms/step - loss: 0.0244 - accuracy: 0.0000e+00\n",
      "Epoch 22/200\n",
      "120/120 [==============================] - 0s 1ms/step - loss: 0.0249 - accuracy: 0.0000e+00\n",
      "Epoch 23/200\n",
      "120/120 [==============================] - 0s 1ms/step - loss: 0.0259 - accuracy: 0.0000e+00\n",
      "Epoch 24/200\n",
      "120/120 [==============================] - 0s 1ms/step - loss: 0.0246 - accuracy: 0.0000e+00\n",
      "Epoch 25/200\n",
      "120/120 [==============================] - 0s 1ms/step - loss: 0.0250 - accuracy: 0.0000e+00\n",
      "Epoch 26/200\n",
      "120/120 [==============================] - 0s 1ms/step - loss: 0.0211 - accuracy: 0.0000e+00\n",
      "Epoch 27/200\n",
      "120/120 [==============================] - 1s 6ms/step - loss: 0.0234 - accuracy: 0.0000e+00\n",
      "Epoch 28/200\n",
      "120/120 [==============================] - 0s 1ms/step - loss: 0.0224 - accuracy: 0.0000e+00\n",
      "Epoch 29/200\n",
      "120/120 [==============================] - 0s 1ms/step - loss: 0.0231 - accuracy: 0.0000e+00\n",
      "Epoch 30/200\n",
      "120/120 [==============================] - 0s 1ms/step - loss: 0.0216 - accuracy: 0.0000e+00\n",
      "Epoch 31/200\n",
      "120/120 [==============================] - 0s 1ms/step - loss: 0.0232 - accuracy: 0.0000e+00\n",
      "Epoch 32/200\n",
      "120/120 [==============================] - 0s 1ms/step - loss: 0.0222 - accuracy: 0.0000e+00\n",
      "Epoch 33/200\n",
      "120/120 [==============================] - 0s 1ms/step - loss: 0.0225 - accuracy: 0.0000e+00\n",
      "Epoch 34/200\n",
      "120/120 [==============================] - 0s 1ms/step - loss: 0.0214 - accuracy: 0.0000e+00\n",
      "Epoch 35/200\n",
      "120/120 [==============================] - 0s 1ms/step - loss: 0.0196 - accuracy: 0.0000e+00\n",
      "Epoch 36/200\n",
      "120/120 [==============================] - 0s 1ms/step - loss: 0.0201 - accuracy: 0.0000e+00\n",
      "Epoch 37/200\n",
      "120/120 [==============================] - 0s 1ms/step - loss: 0.0198 - accuracy: 0.0000e+00\n",
      "Epoch 38/200\n",
      "120/120 [==============================] - 0s 1ms/step - loss: 0.0220 - accuracy: 0.0000e+00\n",
      "Epoch 39/200\n",
      "120/120 [==============================] - 0s 1ms/step - loss: 0.0199 - accuracy: 0.0000e+00\n",
      "Epoch 40/200\n",
      "120/120 [==============================] - 0s 1ms/step - loss: 0.0191 - accuracy: 0.0000e+00\n",
      "Epoch 41/200\n",
      "120/120 [==============================] - 0s 1ms/step - loss: 0.0225 - accuracy: 0.0000e+00\n",
      "Epoch 42/200\n",
      "120/120 [==============================] - 0s 1ms/step - loss: 0.0207 - accuracy: 0.0000e+00\n",
      "Epoch 43/200\n",
      "120/120 [==============================] - 0s 1ms/step - loss: 0.0188 - accuracy: 0.0000e+00\n",
      "Epoch 44/200\n",
      "120/120 [==============================] - 0s 1ms/step - loss: 0.0207 - accuracy: 0.0000e+00\n",
      "Epoch 45/200\n",
      "120/120 [==============================] - 0s 1ms/step - loss: 0.0199 - accuracy: 0.0000e+00\n",
      "Epoch 46/200\n",
      "120/120 [==============================] - 0s 1ms/step - loss: 0.0195 - accuracy: 0.0000e+00\n",
      "Epoch 47/200\n",
      "120/120 [==============================] - 0s 1ms/step - loss: 0.0195 - accuracy: 0.0000e+00\n",
      "Epoch 48/200\n",
      "120/120 [==============================] - 0s 1ms/step - loss: 0.0200 - accuracy: 0.0000e+00\n",
      "Epoch 49/200\n",
      "120/120 [==============================] - 0s 1ms/step - loss: 0.0190 - accuracy: 0.0000e+00\n",
      "Epoch 50/200\n",
      "120/120 [==============================] - 0s 1ms/step - loss: 0.0211 - accuracy: 0.0000e+00\n",
      "Epoch 51/200\n",
      "120/120 [==============================] - 0s 1ms/step - loss: 0.0197 - accuracy: 0.0000e+00\n",
      "Epoch 52/200\n",
      "120/120 [==============================] - 0s 1ms/step - loss: 0.0194 - accuracy: 0.0000e+00\n",
      "Epoch 53/200\n",
      "120/120 [==============================] - 0s 1ms/step - loss: 0.0193 - accuracy: 0.0000e+00\n",
      "Epoch 54/200\n",
      "120/120 [==============================] - 0s 1ms/step - loss: 0.0188 - accuracy: 0.0000e+00\n",
      "Epoch 55/200\n",
      "120/120 [==============================] - 0s 1ms/step - loss: 0.0190 - accuracy: 0.0000e+00\n",
      "Epoch 56/200\n",
      "120/120 [==============================] - 0s 1ms/step - loss: 0.0189 - accuracy: 0.0000e+00\n",
      "Epoch 57/200\n",
      "120/120 [==============================] - 0s 1ms/step - loss: 0.0180 - accuracy: 0.0000e+00\n",
      "Epoch 58/200\n",
      "120/120 [==============================] - 0s 1ms/step - loss: 0.0189 - accuracy: 0.0000e+00\n",
      "Epoch 59/200\n",
      "120/120 [==============================] - 0s 1ms/step - loss: 0.0183 - accuracy: 0.0000e+00\n",
      "Epoch 60/200\n",
      "120/120 [==============================] - 0s 1ms/step - loss: 0.0186 - accuracy: 0.0000e+00\n",
      "Epoch 61/200\n",
      "120/120 [==============================] - 0s 1ms/step - loss: 0.0185 - accuracy: 0.0000e+00\n",
      "Epoch 62/200\n",
      "120/120 [==============================] - 0s 1ms/step - loss: 0.0189 - accuracy: 0.0000e+00\n",
      "Epoch 63/200\n",
      "120/120 [==============================] - 0s 1ms/step - loss: 0.0198 - accuracy: 0.0000e+00\n",
      "Epoch 64/200\n",
      "120/120 [==============================] - 0s 1ms/step - loss: 0.0186 - accuracy: 0.0000e+00\n",
      "Epoch 65/200\n",
      "120/120 [==============================] - 0s 1ms/step - loss: 0.0174 - accuracy: 0.0000e+00\n",
      "Epoch 66/200\n",
      "120/120 [==============================] - 0s 1ms/step - loss: 0.0176 - accuracy: 0.0000e+00\n",
      "Epoch 67/200\n",
      "120/120 [==============================] - 0s 1ms/step - loss: 0.0182 - accuracy: 0.0000e+00\n",
      "Epoch 68/200\n",
      "120/120 [==============================] - 0s 1ms/step - loss: 0.0180 - accuracy: 0.0000e+00\n",
      "Epoch 69/200\n",
      "120/120 [==============================] - 0s 1ms/step - loss: 0.0172 - accuracy: 0.0000e+00\n",
      "Epoch 70/200\n",
      "120/120 [==============================] - 0s 1ms/step - loss: 0.0179 - accuracy: 0.0000e+00\n",
      "Epoch 71/200\n",
      "120/120 [==============================] - 0s 1ms/step - loss: 0.0177 - accuracy: 0.0000e+00\n",
      "Epoch 72/200\n",
      "120/120 [==============================] - 0s 1ms/step - loss: 0.0176 - accuracy: 0.0000e+00\n",
      "Epoch 73/200\n",
      "120/120 [==============================] - 0s 1ms/step - loss: 0.0179 - accuracy: 0.0000e+00\n",
      "Epoch 74/200\n",
      "120/120 [==============================] - 0s 1ms/step - loss: 0.0175 - accuracy: 0.0000e+00\n",
      "Epoch 75/200\n",
      "120/120 [==============================] - 0s 1ms/step - loss: 0.0173 - accuracy: 0.0000e+00\n",
      "Epoch 76/200\n",
      "120/120 [==============================] - 0s 1ms/step - loss: 0.0169 - accuracy: 0.0000e+00\n",
      "Epoch 77/200\n",
      "120/120 [==============================] - 0s 1ms/step - loss: 0.0171 - accuracy: 0.0000e+00\n",
      "Epoch 78/200\n"
     ]
    },
    {
     "name": "stdout",
     "output_type": "stream",
     "text": [
      "120/120 [==============================] - 0s 1ms/step - loss: 0.0179 - accuracy: 0.0000e+00\n",
      "Epoch 79/200\n",
      "120/120 [==============================] - 0s 1ms/step - loss: 0.0201 - accuracy: 0.0000e+00\n",
      "Epoch 80/200\n",
      "120/120 [==============================] - 0s 1ms/step - loss: 0.0169 - accuracy: 0.0000e+00\n",
      "Epoch 81/200\n",
      "120/120 [==============================] - 0s 1ms/step - loss: 0.0180 - accuracy: 0.0000e+00\n",
      "Epoch 82/200\n",
      "120/120 [==============================] - 0s 1ms/step - loss: 0.0178 - accuracy: 0.0000e+00\n",
      "Epoch 83/200\n",
      "120/120 [==============================] - 0s 1ms/step - loss: 0.0162 - accuracy: 0.0000e+00\n",
      "Epoch 84/200\n",
      "120/120 [==============================] - 0s 1ms/step - loss: 0.0173 - accuracy: 0.0000e+00\n",
      "Epoch 85/200\n",
      "120/120 [==============================] - 0s 1ms/step - loss: 0.0169 - accuracy: 0.0000e+00\n",
      "Epoch 86/200\n",
      "120/120 [==============================] - 0s 1ms/step - loss: 0.0168 - accuracy: 0.0000e+00\n",
      "Epoch 87/200\n",
      "120/120 [==============================] - 0s 1ms/step - loss: 0.0177 - accuracy: 0.0000e+00\n",
      "Epoch 88/200\n",
      "120/120 [==============================] - 0s 1ms/step - loss: 0.0174 - accuracy: 0.0000e+00\n",
      "Epoch 89/200\n",
      "120/120 [==============================] - 0s 1ms/step - loss: 0.0166 - accuracy: 0.0000e+00\n",
      "Epoch 90/200\n",
      "120/120 [==============================] - 0s 1ms/step - loss: 0.0170 - accuracy: 0.0000e+00\n",
      "Epoch 91/200\n",
      "120/120 [==============================] - 0s 1ms/step - loss: 0.0172 - accuracy: 0.0000e+00\n",
      "Epoch 92/200\n",
      "120/120 [==============================] - 0s 1ms/step - loss: 0.0170 - accuracy: 0.0000e+00\n",
      "Epoch 93/200\n",
      "120/120 [==============================] - 0s 1ms/step - loss: 0.0176 - accuracy: 0.0000e+00\n",
      "Epoch 94/200\n",
      "120/120 [==============================] - 0s 1ms/step - loss: 0.0162 - accuracy: 0.0000e+00\n",
      "Epoch 95/200\n",
      "120/120 [==============================] - 0s 1ms/step - loss: 0.0161 - accuracy: 0.0000e+00\n",
      "Epoch 96/200\n",
      "120/120 [==============================] - 0s 1ms/step - loss: 0.0168 - accuracy: 0.0000e+00\n",
      "Epoch 97/200\n",
      "120/120 [==============================] - 0s 1ms/step - loss: 0.0173 - accuracy: 0.0000e+00\n",
      "Epoch 98/200\n",
      "120/120 [==============================] - 0s 1ms/step - loss: 0.0169 - accuracy: 0.0000e+00\n",
      "Epoch 99/200\n",
      "120/120 [==============================] - 0s 1ms/step - loss: 0.0170 - accuracy: 0.0000e+00\n",
      "Epoch 100/200\n",
      "120/120 [==============================] - 0s 1ms/step - loss: 0.0167 - accuracy: 0.0000e+00\n",
      "Epoch 101/200\n",
      "120/120 [==============================] - 0s 1ms/step - loss: 0.0164 - accuracy: 0.0000e+00\n",
      "Epoch 102/200\n",
      "120/120 [==============================] - 0s 1ms/step - loss: 0.0159 - accuracy: 0.0000e+00\n",
      "Epoch 103/200\n",
      "120/120 [==============================] - 0s 1ms/step - loss: 0.0182 - accuracy: 0.0000e+00\n",
      "Epoch 104/200\n",
      "120/120 [==============================] - 0s 1ms/step - loss: 0.0177 - accuracy: 0.0000e+00\n",
      "Epoch 105/200\n",
      "120/120 [==============================] - 0s 1ms/step - loss: 0.0166 - accuracy: 0.0000e+00\n",
      "Epoch 106/200\n",
      "120/120 [==============================] - 0s 1ms/step - loss: 0.0165 - accuracy: 0.0000e+00\n",
      "Epoch 107/200\n",
      "120/120 [==============================] - 0s 1ms/step - loss: 0.0165 - accuracy: 0.0000e+00\n",
      "Epoch 108/200\n",
      "120/120 [==============================] - 0s 1ms/step - loss: 0.0158 - accuracy: 0.0000e+00\n",
      "Epoch 109/200\n",
      "120/120 [==============================] - 0s 1ms/step - loss: 0.0171 - accuracy: 0.0000e+00\n",
      "Epoch 110/200\n",
      "120/120 [==============================] - 0s 1ms/step - loss: 0.0159 - accuracy: 0.0000e+00\n",
      "Epoch 111/200\n",
      "120/120 [==============================] - 0s 1ms/step - loss: 0.0156 - accuracy: 0.0000e+00\n",
      "Epoch 112/200\n",
      "120/120 [==============================] - 0s 1ms/step - loss: 0.0154 - accuracy: 0.0000e+00\n",
      "Epoch 113/200\n",
      "120/120 [==============================] - 0s 1ms/step - loss: 0.0156 - accuracy: 0.0000e+00\n",
      "Epoch 114/200\n",
      "120/120 [==============================] - 0s 1ms/step - loss: 0.0171 - accuracy: 0.0000e+00\n",
      "Epoch 115/200\n",
      "120/120 [==============================] - 0s 1ms/step - loss: 0.0169 - accuracy: 0.0000e+00\n",
      "Epoch 116/200\n",
      "120/120 [==============================] - 0s 1ms/step - loss: 0.0155 - accuracy: 0.0000e+00\n",
      "Epoch 117/200\n",
      "120/120 [==============================] - 0s 1ms/step - loss: 0.0166 - accuracy: 0.0000e+00\n",
      "Epoch 118/200\n",
      "120/120 [==============================] - 0s 1ms/step - loss: 0.0153 - accuracy: 0.0000e+00\n",
      "Epoch 119/200\n",
      "120/120 [==============================] - 0s 1ms/step - loss: 0.0171 - accuracy: 0.0000e+00\n",
      "Epoch 120/200\n",
      "120/120 [==============================] - 0s 1ms/step - loss: 0.0158 - accuracy: 0.0000e+00\n",
      "Epoch 121/200\n",
      "120/120 [==============================] - 0s 1ms/step - loss: 0.0160 - accuracy: 0.0000e+00\n",
      "Epoch 122/200\n",
      "120/120 [==============================] - 0s 1ms/step - loss: 0.0160 - accuracy: 0.0000e+00\n",
      "Epoch 123/200\n",
      "120/120 [==============================] - 0s 1ms/step - loss: 0.0155 - accuracy: 0.0000e+00\n",
      "Epoch 124/200\n",
      "120/120 [==============================] - 0s 1ms/step - loss: 0.0162 - accuracy: 0.0000e+00\n",
      "Epoch 125/200\n",
      "120/120 [==============================] - 0s 1ms/step - loss: 0.0149 - accuracy: 0.0000e+00\n",
      "Epoch 126/200\n",
      "120/120 [==============================] - 0s 1ms/step - loss: 0.0154 - accuracy: 0.0000e+00\n",
      "Epoch 127/200\n",
      "120/120 [==============================] - 0s 1ms/step - loss: 0.0166 - accuracy: 0.0000e+00\n",
      "Epoch 128/200\n",
      "120/120 [==============================] - 0s 1ms/step - loss: 0.0161 - accuracy: 0.0000e+00\n",
      "Epoch 129/200\n",
      "120/120 [==============================] - 0s 1ms/step - loss: 0.0168 - accuracy: 0.0000e+00\n",
      "Epoch 130/200\n",
      "120/120 [==============================] - 0s 1ms/step - loss: 0.0156 - accuracy: 0.0000e+00\n",
      "Epoch 131/200\n",
      "120/120 [==============================] - 0s 1ms/step - loss: 0.0161 - accuracy: 0.0000e+00\n",
      "Epoch 132/200\n",
      "120/120 [==============================] - 0s 1ms/step - loss: 0.0147 - accuracy: 0.0000e+00\n",
      "Epoch 133/200\n",
      "120/120 [==============================] - 0s 1ms/step - loss: 0.0144 - accuracy: 0.0000e+00\n",
      "Epoch 134/200\n",
      "120/120 [==============================] - 0s 1ms/step - loss: 0.0141 - accuracy: 0.0000e+00\n",
      "Epoch 135/200\n",
      "120/120 [==============================] - 0s 1ms/step - loss: 0.0158 - accuracy: 0.0000e+00\n",
      "Epoch 136/200\n",
      "120/120 [==============================] - 0s 1ms/step - loss: 0.0149 - accuracy: 0.0000e+00\n",
      "Epoch 137/200\n",
      "120/120 [==============================] - 0s 1ms/step - loss: 0.0145 - accuracy: 0.0000e+00\n",
      "Epoch 138/200\n",
      "120/120 [==============================] - 0s 1ms/step - loss: 0.0160 - accuracy: 0.0000e+00\n",
      "Epoch 139/200\n",
      "120/120 [==============================] - 0s 1ms/step - loss: 0.0147 - accuracy: 0.0000e+00\n",
      "Epoch 140/200\n",
      "120/120 [==============================] - 0s 1ms/step - loss: 0.0153 - accuracy: 0.0000e+00\n",
      "Epoch 141/200\n",
      "120/120 [==============================] - 0s 1ms/step - loss: 0.0147 - accuracy: 0.0000e+00\n",
      "Epoch 142/200\n",
      "120/120 [==============================] - 0s 1ms/step - loss: 0.0155 - accuracy: 0.0000e+00\n",
      "Epoch 143/200\n",
      "120/120 [==============================] - 0s 1ms/step - loss: 0.0160 - accuracy: 0.0000e+00\n",
      "Epoch 144/200\n",
      "120/120 [==============================] - 0s 1ms/step - loss: 0.0144 - accuracy: 0.0000e+00\n",
      "Epoch 145/200\n",
      "120/120 [==============================] - 0s 1ms/step - loss: 0.0147 - accuracy: 0.0000e+00\n",
      "Epoch 146/200\n",
      "120/120 [==============================] - 0s 1ms/step - loss: 0.0155 - accuracy: 0.0000e+00\n",
      "Epoch 147/200\n",
      "120/120 [==============================] - 0s 1ms/step - loss: 0.0161 - accuracy: 0.0000e+00\n",
      "Epoch 148/200\n",
      "120/120 [==============================] - 0s 1ms/step - loss: 0.0144 - accuracy: 0.0000e+00\n",
      "Epoch 149/200\n",
      "120/120 [==============================] - 0s 1ms/step - loss: 0.0151 - accuracy: 0.0000e+00\n",
      "Epoch 150/200\n",
      "120/120 [==============================] - 0s 1ms/step - loss: 0.0148 - accuracy: 0.0000e+00\n",
      "Epoch 151/200\n",
      "120/120 [==============================] - 0s 1ms/step - loss: 0.0161 - accuracy: 0.0000e+00\n",
      "Epoch 152/200\n",
      "120/120 [==============================] - 0s 1ms/step - loss: 0.0141 - accuracy: 0.0000e+00\n",
      "Epoch 153/200\n",
      "120/120 [==============================] - 0s 1ms/step - loss: 0.0144 - accuracy: 0.0000e+00\n",
      "Epoch 154/200\n"
     ]
    },
    {
     "name": "stdout",
     "output_type": "stream",
     "text": [
      "120/120 [==============================] - 0s 1ms/step - loss: 0.0151 - accuracy: 0.0000e+00\n",
      "Epoch 155/200\n",
      "120/120 [==============================] - 0s 1ms/step - loss: 0.0161 - accuracy: 0.0000e+00\n",
      "Epoch 156/200\n",
      "120/120 [==============================] - 0s 1ms/step - loss: 0.0163 - accuracy: 0.0000e+00\n",
      "Epoch 157/200\n",
      "120/120 [==============================] - 0s 1ms/step - loss: 0.0153 - accuracy: 0.0000e+00\n",
      "Epoch 158/200\n",
      "120/120 [==============================] - 0s 1ms/step - loss: 0.0153 - accuracy: 0.0000e+00\n",
      "Epoch 159/200\n",
      "120/120 [==============================] - 0s 1ms/step - loss: 0.0144 - accuracy: 0.0000e+00\n",
      "Epoch 160/200\n",
      "120/120 [==============================] - 0s 1ms/step - loss: 0.0147 - accuracy: 0.0000e+00\n",
      "Epoch 161/200\n",
      "120/120 [==============================] - 0s 1ms/step - loss: 0.0144 - accuracy: 0.0000e+00\n",
      "Epoch 162/200\n",
      "120/120 [==============================] - 0s 1ms/step - loss: 0.0151 - accuracy: 0.0000e+00\n",
      "Epoch 163/200\n",
      "120/120 [==============================] - 0s 1ms/step - loss: 0.0150 - accuracy: 0.0000e+00\n",
      "Epoch 164/200\n",
      "120/120 [==============================] - 0s 1ms/step - loss: 0.0147 - accuracy: 0.0000e+00\n",
      "Epoch 165/200\n",
      "120/120 [==============================] - 0s 1ms/step - loss: 0.0137 - accuracy: 0.0000e+00\n",
      "Epoch 166/200\n",
      "120/120 [==============================] - 0s 1ms/step - loss: 0.0145 - accuracy: 0.0000e+00\n",
      "Epoch 167/200\n",
      "120/120 [==============================] - 0s 1ms/step - loss: 0.0137 - accuracy: 0.0000e+00\n",
      "Epoch 168/200\n",
      "120/120 [==============================] - 0s 1ms/step - loss: 0.0153 - accuracy: 0.0000e+00\n",
      "Epoch 169/200\n",
      "120/120 [==============================] - 0s 1ms/step - loss: 0.0150 - accuracy: 0.0000e+00\n",
      "Epoch 170/200\n",
      "120/120 [==============================] - 0s 1ms/step - loss: 0.0154 - accuracy: 0.0000e+00\n",
      "Epoch 171/200\n",
      "120/120 [==============================] - 0s 1ms/step - loss: 0.0136 - accuracy: 0.0000e+00\n",
      "Epoch 172/200\n",
      "120/120 [==============================] - 0s 1ms/step - loss: 0.0143 - accuracy: 0.0000e+00\n",
      "Epoch 173/200\n",
      "120/120 [==============================] - 0s 1ms/step - loss: 0.0144 - accuracy: 0.0000e+00\n",
      "Epoch 174/200\n",
      "120/120 [==============================] - 0s 1ms/step - loss: 0.0139 - accuracy: 0.0000e+00\n",
      "Epoch 175/200\n",
      "120/120 [==============================] - 0s 1ms/step - loss: 0.0152 - accuracy: 0.0000e+00\n",
      "Epoch 176/200\n",
      "120/120 [==============================] - 0s 1ms/step - loss: 0.0152 - accuracy: 0.0000e+00\n",
      "Epoch 177/200\n",
      "120/120 [==============================] - 0s 1ms/step - loss: 0.0152 - accuracy: 0.0000e+00\n",
      "Epoch 178/200\n",
      "120/120 [==============================] - 0s 1ms/step - loss: 0.0140 - accuracy: 0.0000e+00\n",
      "Epoch 179/200\n",
      "120/120 [==============================] - 0s 1ms/step - loss: 0.0141 - accuracy: 0.0000e+00\n",
      "Epoch 180/200\n",
      "120/120 [==============================] - 0s 1ms/step - loss: 0.0150 - accuracy: 0.0000e+00\n",
      "Epoch 181/200\n",
      "120/120 [==============================] - 0s 1ms/step - loss: 0.0144 - accuracy: 0.0000e+00\n",
      "Epoch 182/200\n",
      "120/120 [==============================] - 0s 1ms/step - loss: 0.0147 - accuracy: 0.0000e+00\n",
      "Epoch 183/200\n",
      "120/120 [==============================] - 0s 1ms/step - loss: 0.0142 - accuracy: 0.0000e+00\n",
      "Epoch 184/200\n",
      "120/120 [==============================] - 0s 1ms/step - loss: 0.0147 - accuracy: 0.0000e+00\n",
      "Epoch 185/200\n",
      "120/120 [==============================] - 0s 1ms/step - loss: 0.0154 - accuracy: 0.0000e+00\n",
      "Epoch 186/200\n",
      "120/120 [==============================] - 0s 1ms/step - loss: 0.0154 - accuracy: 0.0000e+00\n",
      "Epoch 187/200\n",
      "120/120 [==============================] - 0s 1ms/step - loss: 0.0140 - accuracy: 0.0000e+00\n",
      "Epoch 188/200\n",
      "120/120 [==============================] - 0s 1ms/step - loss: 0.0134 - accuracy: 0.0000e+00\n",
      "Epoch 189/200\n",
      "120/120 [==============================] - 0s 1ms/step - loss: 0.0153 - accuracy: 0.0000e+00\n",
      "Epoch 190/200\n",
      "120/120 [==============================] - 0s 1ms/step - loss: 0.0150 - accuracy: 0.0000e+00\n",
      "Epoch 191/200\n",
      "120/120 [==============================] - 0s 1ms/step - loss: 0.0143 - accuracy: 0.0000e+00\n",
      "Epoch 192/200\n",
      "120/120 [==============================] - 0s 1ms/step - loss: 0.0148 - accuracy: 0.0000e+00\n",
      "Epoch 193/200\n",
      "120/120 [==============================] - 0s 1ms/step - loss: 0.0145 - accuracy: 0.0000e+00\n",
      "Epoch 194/200\n",
      "120/120 [==============================] - 0s 1ms/step - loss: 0.0138 - accuracy: 0.0000e+00\n",
      "Epoch 195/200\n",
      "120/120 [==============================] - 0s 1ms/step - loss: 0.0137 - accuracy: 0.0000e+00\n",
      "Epoch 196/200\n",
      "120/120 [==============================] - 0s 1ms/step - loss: 0.0144 - accuracy: 0.0000e+00\n",
      "Epoch 197/200\n",
      "120/120 [==============================] - 0s 1ms/step - loss: 0.0122 - accuracy: 0.0000e+00\n",
      "Epoch 198/200\n",
      "120/120 [==============================] - 0s 1ms/step - loss: 0.0141 - accuracy: 0.0000e+00\n",
      "Epoch 199/200\n",
      "120/120 [==============================] - 0s 1ms/step - loss: 0.0127 - accuracy: 0.0000e+00\n",
      "Epoch 200/200\n",
      "120/120 [==============================] - 0s 1ms/step - loss: 0.0147 - accuracy: 0.0000e+00\n"
     ]
    }
   ],
   "source": [
    "history = rnn_model.fit(train_X, train_y, batch_size = 5, epochs = 200)"
   ]
  },
  {
   "cell_type": "code",
   "execution_count": 20,
   "metadata": {},
   "outputs": [
    {
     "data": {
      "text/plain": [
       "[<matplotlib.lines.Line2D at 0x7f8a42a546d0>]"
      ]
     },
     "execution_count": 20,
     "metadata": {},
     "output_type": "execute_result"
    },
    {
     "data": {
      "image/png": "[encoded data removed]",
      "text/plain": [
       "<Figure size 432x288 with 1 Axes>"
      ]
     },
     "metadata": {
      "needs_background": "light"
     },
     "output_type": "display_data"
    }
   ],
   "source": [
    "plt.plot(history.history['loss'])"
   ]
  },
  {
   "cell_type": "code",
   "execution_count": 21,
   "metadata": {},
   "outputs": [],
   "source": [
    "train_y_pred_rnn = rnn_model.predict(train_X)\n",
    "temp = []\n",
    "\n",
    "for i in range(0, len(train_y_pred_rnn)):\n",
    "    temp.append(train_y_pred_rnn[i][0])\n",
    "    \n",
    "train_y_pred_rnn = temp"
   ]
  },
  {
   "cell_type": "code",
   "execution_count": 22,
   "metadata": {},
   "outputs": [
    {
     "data": {
      "text/plain": [
       "[<matplotlib.lines.Line2D at 0x7f8a42bb6b10>]"
      ]
     },
     "execution_count": 22,
     "metadata": {},
     "output_type": "execute_result"
    },
    {
     "data": {
      "image/png": "[encoded data removed]",
      "text/plain": [
       "<Figure size 432x288 with 1 Axes>"
      ]
     },
     "metadata": {
      "needs_background": "light"
     },
     "output_type": "display_data"
    }
   ],
   "source": [
    "plt.plot(train_y_pred_rnn, color = \"red\")\n",
    "plt.plot(train_y)"
   ]
  },
  {
   "cell_type": "code",
   "execution_count": 33,
   "metadata": {},
   "outputs": [],
   "source": [
    "data = pd.concat([train_data, valid_data])"
   ]
  },
  {
   "cell_type": "code",
   "execution_count": 36,
   "metadata": {},
   "outputs": [],
   "source": [
    "gen = TimeseriesGenerator(data, data, length=12, sampling_rate=1, batch_size=1)"
   ]
  },
  {
   "cell_type": "code",
   "execution_count": 37,
   "metadata": {},
   "outputs": [],
   "source": [
    "X = []\n",
    "Y = []\n",
    "for i in range(0, len(gen)):\n",
    "    x, y = gen[i]\n",
    "    X.append(np.array(x))\n",
    "    Y.append(y[0])"
   ]
  },
  {
   "cell_type": "code",
   "execution_count": 40,
   "metadata": {},
   "outputs": [],
   "source": [
    "X = np.array(X)\n",
    "Y = np.array(Y)"
   ]
  },
  {
   "cell_type": "code",
   "execution_count": 42,
   "metadata": {},
   "outputs": [],
   "source": [
    "X = X.reshape(132, 12, 1)"
   ]
  },
  {
   "cell_type": "code",
   "execution_count": 43,
   "metadata": {},
   "outputs": [],
   "source": [
    "y_pred_rnn = rnn_model.predict(X)\n",
    "temp = []\n",
    "\n",
    "for i in range(0, len(y_pred_rnn)):\n",
    "    temp.append(y_pred_rnn[i][0])\n",
    "    \n",
    "y_pred_rnn = temp"
   ]
  },
  {
   "cell_type": "code",
   "execution_count": 47,
   "metadata": {},
   "outputs": [
    {
     "data": {
      "text/plain": [
       "[<matplotlib.lines.Line2D at 0x7f8a2169bed0>]"
      ]
     },
     "execution_count": 47,
     "metadata": {},
     "output_type": "execute_result"
    },
    {
     "data": {
      "image/png": "[encoded data removed]",
      "text/plain": [
       "<Figure size 432x288 with 1 Axes>"
      ]
     },
     "metadata": {
      "needs_background": "light"
     },
     "output_type": "display_data"
    }
   ],
   "source": [
    "plt.plot(y_pred_rnn, color = \"red\")\n",
    "plt.plot(Y)"
   ]
  },
  {
   "cell_type": "code",
   "execution_count": 48,
   "metadata": {},
   "outputs": [],
   "source": [
    "y_pred_lstm = lstm_model.predict(X)\n",
    "temp = []\n",
    "\n",
    "for i in range(0, len(y_pred_lstm)):\n",
    "    temp.append(y_pred_lstm[i][0])\n",
    "    \n",
    "y_pred_lstm = temp"
   ]
  },
  {
   "cell_type": "code",
   "execution_count": 50,
   "metadata": {},
   "outputs": [
    {
     "data": {
      "text/plain": [
       "[<matplotlib.lines.Line2D at 0x7f8a42de04d0>]"
      ]
     },
     "execution_count": 50,
     "metadata": {},
     "output_type": "execute_result"
    },
    {
     "data": {
      "image/png": "[encoded data removed]",
      "text/plain": [
       "<Figure size 432x288 with 1 Axes>"
      ]
     },
     "metadata": {
      "needs_background": "light"
     },
     "output_type": "display_data"
    }
   ],
   "source": [
    "plt.plot(y_pred_lstm, color = \"red\")\n",
    "plt.plot(Y)"
   ]
  },
  {
   "cell_type": "code",
   "execution_count": null,
   "metadata": {},
   "outputs": [],
   "source": []
  }
 ],
 "metadata": {
  "kernelspec": {
   "display_name": "Python 3",
   "language": "python",
   "name": "python3"
  },
  "language_info": {
   "codemirror_mode": {
    "name": "ipython",
    "version": 3
   },
   "file_extension": ".py",
   "mimetype": "text/x-python",
   "name": "python",
   "nbconvert_exporter": "python",
   "pygments_lexer": "ipython3",
   "version": "3.7.10"
  }
 },
 "nbformat": 4,
 "nbformat_minor": 4
}
