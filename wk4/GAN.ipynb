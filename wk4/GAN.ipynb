{
 "cells": [
  {
   "cell_type": "code",
   "execution_count": 2,
   "id": "d578aea5",
   "metadata": {},
   "outputs": [],
   "source": [
    "import pandas as pd\n",
    "import os\n",
    "import matplotlib.pyplot as plt\n",
    "import numpy as np\n",
    "import tensorflow as tf\n",
    "\n",
    "import glob\n",
    "import imageio\n",
    "import PIL\n",
    "from tensorflow.keras import layers\n",
    "from tensorflow.keras import models\n",
    "import time\n",
    "\n",
    "from IPython import display"
   ]
  },
  {
   "cell_type": "code",
   "execution_count": 3,
   "id": "e1ec9175",
   "metadata": {},
   "outputs": [
    {
     "name": "stdout",
     "output_type": "stream",
     "text": [
      "Collecting imageio\n",
      "  Downloading imageio-2.9.0-py3-none-any.whl (3.3 MB)\n",
      "\u001b[K     |████████████████████████████████| 3.3 MB 11.6 MB/s eta 0:00:01\n",
      "\u001b[?25hRequirement already satisfied: pillow in /Users/owenpi/opt/anaconda3/envs/tf/lib/python3.7/site-packages (from imageio) (8.2.0)\n",
      "Requirement already satisfied: numpy in /Users/owenpi/opt/anaconda3/envs/tf/lib/python3.7/site-packages (from imageio) (1.20.2)\n",
      "Installing collected packages: imageio\n",
      "Successfully installed imageio-2.9.0\n",
      "Note: you may need to restart the kernel to use updated packages.\n"
     ]
    }
   ],
   "source": [
    "pip install imageio"
   ]
  },
  {
   "cell_type": "markdown",
   "id": "e5e42937",
   "metadata": {},
   "source": [
    "# Label 200 data entries (don't run the code)"
   ]
  },
  {
   "cell_type": "code",
   "execution_count": 3,
   "id": "384a98af",
   "metadata": {},
   "outputs": [],
   "source": [
    "files = os.listdir('images/')"
   ]
  },
  {
   "cell_type": "code",
   "execution_count": 18,
   "id": "ea9c8650",
   "metadata": {
    "collapsed": true
   },
   "outputs": [
    {
     "data": {
      "text/plain": [
       "['4426_2003.jpg',\n",
       " '38921_2012.jpg',\n",
       " '55591_2016.jpg',\n",
       " '8777_2004.jpg',\n",
       " '56274_2017.jpg',\n",
       " '24208_2008.jpg',\n",
       " '13759_2006.jpg',\n",
       " '19302_2007.jpg',\n",
       " '14698_2006.jpg',\n",
       " '30569_2010.jpg',\n",
       " '63444_2019.jpg',\n",
       " '49658_2015.jpg',\n",
       " '6747_2003.jpg',\n",
       " '8981_2004.jpg',\n",
       " '6521_2003.jpg',\n",
       " '63622_2019.jpg',\n",
       " '8511_2004.jpg',\n",
       " '56012_2017.jpg',\n",
       " '29184_2010.jpg',\n",
       " '36938_2012.jpg',\n",
       " '19164_2007.jpg',\n",
       " '4640_2003.jpg',\n",
       " '52636_2016.jpg',\n",
       " '58944_2018.jpg',\n",
       " '7936_2004.jpg',\n",
       " '5818_2003.jpg',\n",
       " '12015_2005.jpg',\n",
       " '24622_2009.jpg',\n",
       " '37760_2012.jpg',\n",
       " '32222_2011.jpg',\n",
       " '5488_2003.jpg',\n",
       " '31957_2010.jpg',\n",
       " '26543_2009.jpg',\n",
       " '388_2000.jpg',\n",
       " '22367_2008.jpg',\n",
       " '15636_2006.jpg',\n",
       " '15450_2006.jpg',\n",
       " '37996_2012.jpg',\n",
       " '22101_2008.jpg',\n",
       " '53698_2016.jpg',\n",
       " '54759_2016.jpg',\n",
       " '26725_2009.jpg',\n",
       " '42284_2013.jpg',\n",
       " '35185_2011.jpg',\n",
       " '24444_2009.jpg',\n",
       " '37506_2012.jpg',\n",
       " '61169_2018.jpg',\n",
       " '12273_2005.jpg',\n",
       " '39779_2012.jpg',\n",
       " '1728_2001.jpg',\n",
       " '63623_2019.jpg',\n",
       " '8980_2004.jpg',\n",
       " '6520_2003.jpg',\n",
       " '52637_2016.jpg',\n",
       " '4641_2003.jpg',\n",
       " '58945_2018.jpg',\n",
       " '29185_2010.jpg',\n",
       " '56013_2017.jpg',\n",
       " '8510_2004.jpg',\n",
       " '19165_2007.jpg',\n",
       " '36939_2012.jpg',\n",
       " '56275_2017.jpg',\n",
       " '8776_2004.jpg',\n",
       " '13758_2006.jpg',\n",
       " '24209_2008.jpg',\n",
       " '14699_2006.jpg',\n",
       " '19303_2007.jpg',\n",
       " '4427_2003.jpg',\n",
       " '38920_2012.jpg',\n",
       " '55590_2016.jpg',\n",
       " '49659_2015.jpg',\n",
       " '6746_2003.jpg',\n",
       " '30568_2010.jpg',\n",
       " '63445_2019.jpg',\n",
       " '53699_2016.jpg',\n",
       " '54758_2016.jpg',\n",
       " '42285_2013.jpg',\n",
       " '26724_2009.jpg',\n",
       " '22100_2008.jpg',\n",
       " '15451_2006.jpg',\n",
       " '37997_2012.jpg',\n",
       " '12272_2005.jpg',\n",
       " '39778_2012.jpg',\n",
       " '1729_2001.jpg',\n",
       " '35184_2011.jpg',\n",
       " '37507_2012.jpg',\n",
       " '24445_2009.jpg',\n",
       " '61168_2018.jpg',\n",
       " '37761_2012.jpg',\n",
       " '24623_2009.jpg',\n",
       " '32223_2011.jpg',\n",
       " '7937_2004.jpg',\n",
       " '5819_2003.jpg',\n",
       " '12014_2005.jpg',\n",
       " '389_2000.jpg',\n",
       " '15637_2006.jpg',\n",
       " '22366_2008.jpg',\n",
       " '5489_2003.jpg',\n",
       " '26542_2009.jpg',\n",
       " '31956_2010.jpg',\n",
       " '33424_2011.jpg',\n",
       " '60509_2018.jpg',\n",
       " '41585_2013.jpg',\n",
       " '25024_2009.jpg',\n",
       " '38319_2012.jpg',\n",
       " '21600_2008.jpg',\n",
       " '16351_2006.jpg',\n",
       " '14030_2006.jpg',\n",
       " '34975_2011.jpg',\n",
       " '41915_2013.jpg',\n",
       " '23561_2008.jpg',\n",
       " '60999_2018.jpg',\n",
       " '48474_2014.jpg',\n",
       " '11572_2005.jpg',\n",
       " '40101_2012.jpg',\n",
       " '2029_2001.jpg',\n",
       " '27345_2009.jpg',\n",
       " '55339_2016.jpg',\n",
       " '44725_2013.jpg',\n",
       " '43482_2013.jpg',\n",
       " '27123_2009.jpg',\n",
       " '44543_2013.jpg',\n",
       " '23707_2008.jpg',\n",
       " '14256_2006.jpg',\n",
       " '40367_2012.jpg',\n",
       " '48612_2014.jpg',\n",
       " '11714_2005.jpg',\n",
       " '17923_2007.jpg',\n",
       " '43812_2013.jpg',\n",
       " '16137_2006.jpg',\n",
       " '21466_2008.jpg',\n",
       " '33642_2011.jpg',\n",
       " '6389_2003.jpg',\n",
       " '34783_2011.jpg',\n",
       " '25242_2009.jpg',\n",
       " '10390_2004.jpg',\n",
       " '49296_2015.jpg',\n",
       " '45954_2014.jpg',\n",
       " '18504_2007.jpg',\n",
       " '57472_2017.jpg',\n",
       " '9171_2004.jpg',\n",
       " '520_2000.jpg',\n",
       " '28194_2009.jpg',\n",
       " '54397_2016.jpg',\n",
       " '20117_2007.jpg',\n",
       " '5220_2003.jpg',\n",
       " '53256_2016.jpg',\n",
       " '28974_2010.jpg',\n",
       " '7141_2003.jpg',\n",
       " '18994_2007.jpg',\n",
       " '62242_2019.jpg',\n",
       " '3765_2002.jpg',\n",
       " '1180_2001.jpg',\n",
       " '62024_2019.jpg',\n",
       " '3503_2002.jpg',\n",
       " '51823_2015.jpg',\n",
       " '47853_2014.jpg',\n",
       " '31109_2010.jpg',\n",
       " '20858_2008.jpg',\n",
       " '20371_2007.jpg',\n",
       " '53030_2016.jpg',\n",
       " '3993_2002.jpg',\n",
       " '5046_2003.jpg',\n",
       " '18762_2007.jpg',\n",
       " '28782_2010.jpg',\n",
       " '57614_2017.jpg',\n",
       " '9317_2004.jpg',\n",
       " '746_2000.jpg',\n",
       " '14257_2006.jpg',\n",
       " '23706_2008.jpg',\n",
       " '48613_2014.jpg',\n",
       " '11715_2005.jpg',\n",
       " '40366_2012.jpg',\n",
       " '27122_2009.jpg',\n",
       " '43483_2013.jpg',\n",
       " '44542_2013.jpg',\n",
       " '33643_2011.jpg',\n",
       " '6388_2003.jpg',\n",
       " '10391_2004.jpg',\n",
       " '49297_2015.jpg',\n",
       " '34782_2011.jpg',\n",
       " '25243_2009.jpg',\n",
       " '17922_2007.jpg',\n",
       " '21467_2008.jpg',\n",
       " '43813_2013.jpg',\n",
       " '16136_2006.jpg',\n",
       " '38318_2012.jpg',\n",
       " '16350_2006.jpg',\n",
       " '21601_2008.jpg',\n",
       " '33425_2011.jpg',\n",
       " '60508_2018.jpg',\n",
       " '25025_2009.jpg',\n",
       " '41584_2013.jpg',\n",
       " '27344_2009.jpg',\n",
       " '55338_2016.jpg',\n",
       " '44724_2013.jpg',\n",
       " '23560_2008.jpg',\n",
       " '34974_2011.jpg',\n",
       " '14031_2006.jpg',\n",
       " '41914_2013.jpg']"
      ]
     },
     "execution_count": 18,
     "metadata": {},
     "output_type": "execute_result"
    }
   ],
   "source": [
    "files[:200]"
   ]
  },
  {
   "cell_type": "code",
   "execution_count": 19,
   "id": "fe30ea78",
   "metadata": {},
   "outputs": [],
   "source": [
    "hair_len = [1, 1, 0, 1, 0, 1, 1, 1, 1, 0, 1, 1, 0, 0, 1, 1, 1, 0, 1,\n",
    "            0, 0, 0, 1, 1, 1, 1, 1, 0, 0, 1, 1, 1, 1, 0, 0, 1, 0, 1, \n",
    "            0, 1, 1, 1, 0, 0, 0, 0, 1, 1, 1, 1, 1, 1, 1, 0, 0, 1, 1,\n",
    "            0, 1, 1, 0, 1, 0, 0, 1, 0, 0, 1, 1, 0, 1, 1, 1, 1, 0, 0,\n",
    "            0, 0, 0, 1, 0, 0, 1, 0, 0, 1, 1, 0, 0, 0, 1, 0, 0, 0, 1,\n",
    "            0, 0, 1, 0, 0, 1, 1, 1, 0, 0, 0, 0, 1, 0, 0, 0, 1, 1, 1,\n",
    "            0, 0, 1, 0, 1, 0, 0, 1, 1, 0, 1, 1, 1, 0, 0, 1, 0, 1, 1,\n",
    "            0, 0, 1, 1, 1, 1, 0, 1, 0, 1, 1, 1, 1, 1, 1, 1, 1, 1, 1,\n",
    "            1, 1, 1, 0, 1, 1, 1, 1, 1, 1, 0, 1, 0, 1, 0, 0, 0, 0, 1,\n",
    "            0, 0, 1, 1, 1, 1, 1, 0, 1, 1, 0, 0, 0, 1, 1, 1, 1, 0, 0,\n",
    "            0, 1, 1, 0, 0, 1, 1, 1, 1, 1]"
   ]
  },
  {
   "cell_type": "code",
   "execution_count": 20,
   "id": "f30d18d1",
   "metadata": {},
   "outputs": [
    {
     "data": {
      "text/plain": [
       "200"
      ]
     },
     "execution_count": 20,
     "metadata": {},
     "output_type": "execute_result"
    }
   ],
   "source": [
    "len(hair_len)"
   ]
  },
  {
   "cell_type": "code",
   "execution_count": 25,
   "id": "7fe39cbb",
   "metadata": {},
   "outputs": [],
   "source": [
    "zipped = list(zip(files[:200], hair_len))"
   ]
  },
  {
   "cell_type": "code",
   "execution_count": 26,
   "id": "5f8a33fa",
   "metadata": {
    "collapsed": true
   },
   "outputs": [
    {
     "data": {
      "text/plain": [
       "[('4426_2003.jpg', 1),\n",
       " ('38921_2012.jpg', 1),\n",
       " ('55591_2016.jpg', 0),\n",
       " ('8777_2004.jpg', 1),\n",
       " ('56274_2017.jpg', 0),\n",
       " ('24208_2008.jpg', 1),\n",
       " ('13759_2006.jpg', 1),\n",
       " ('19302_2007.jpg', 1),\n",
       " ('14698_2006.jpg', 1),\n",
       " ('30569_2010.jpg', 0),\n",
       " ('63444_2019.jpg', 1),\n",
       " ('49658_2015.jpg', 1),\n",
       " ('6747_2003.jpg', 0),\n",
       " ('8981_2004.jpg', 0),\n",
       " ('6521_2003.jpg', 1),\n",
       " ('63622_2019.jpg', 1),\n",
       " ('8511_2004.jpg', 1),\n",
       " ('56012_2017.jpg', 0),\n",
       " ('29184_2010.jpg', 1),\n",
       " ('36938_2012.jpg', 0),\n",
       " ('19164_2007.jpg', 0),\n",
       " ('4640_2003.jpg', 0),\n",
       " ('52636_2016.jpg', 1),\n",
       " ('58944_2018.jpg', 1),\n",
       " ('7936_2004.jpg', 1),\n",
       " ('5818_2003.jpg', 1),\n",
       " ('12015_2005.jpg', 1),\n",
       " ('24622_2009.jpg', 0),\n",
       " ('37760_2012.jpg', 0),\n",
       " ('32222_2011.jpg', 1),\n",
       " ('5488_2003.jpg', 1),\n",
       " ('31957_2010.jpg', 1),\n",
       " ('26543_2009.jpg', 1),\n",
       " ('388_2000.jpg', 0),\n",
       " ('22367_2008.jpg', 0),\n",
       " ('15636_2006.jpg', 1),\n",
       " ('15450_2006.jpg', 0),\n",
       " ('37996_2012.jpg', 1),\n",
       " ('22101_2008.jpg', 0),\n",
       " ('53698_2016.jpg', 1),\n",
       " ('54759_2016.jpg', 1),\n",
       " ('26725_2009.jpg', 1),\n",
       " ('42284_2013.jpg', 0),\n",
       " ('35185_2011.jpg', 0),\n",
       " ('24444_2009.jpg', 0),\n",
       " ('37506_2012.jpg', 0),\n",
       " ('61169_2018.jpg', 1),\n",
       " ('12273_2005.jpg', 1),\n",
       " ('39779_2012.jpg', 1),\n",
       " ('1728_2001.jpg', 1),\n",
       " ('63623_2019.jpg', 1),\n",
       " ('8980_2004.jpg', 1),\n",
       " ('6520_2003.jpg', 1),\n",
       " ('52637_2016.jpg', 0),\n",
       " ('4641_2003.jpg', 0),\n",
       " ('58945_2018.jpg', 1),\n",
       " ('29185_2010.jpg', 1),\n",
       " ('56013_2017.jpg', 0),\n",
       " ('8510_2004.jpg', 1),\n",
       " ('19165_2007.jpg', 1),\n",
       " ('36939_2012.jpg', 0),\n",
       " ('56275_2017.jpg', 1),\n",
       " ('8776_2004.jpg', 0),\n",
       " ('13758_2006.jpg', 0),\n",
       " ('24209_2008.jpg', 1),\n",
       " ('14699_2006.jpg', 0),\n",
       " ('19303_2007.jpg', 0),\n",
       " ('4427_2003.jpg', 1),\n",
       " ('38920_2012.jpg', 1),\n",
       " ('55590_2016.jpg', 0),\n",
       " ('49659_2015.jpg', 1),\n",
       " ('6746_2003.jpg', 1),\n",
       " ('30568_2010.jpg', 1),\n",
       " ('63445_2019.jpg', 1),\n",
       " ('53699_2016.jpg', 0),\n",
       " ('54758_2016.jpg', 0),\n",
       " ('42285_2013.jpg', 0),\n",
       " ('26724_2009.jpg', 0),\n",
       " ('22100_2008.jpg', 0),\n",
       " ('15451_2006.jpg', 1),\n",
       " ('37997_2012.jpg', 0),\n",
       " ('12272_2005.jpg', 0),\n",
       " ('39778_2012.jpg', 1),\n",
       " ('1729_2001.jpg', 0),\n",
       " ('35184_2011.jpg', 0),\n",
       " ('37507_2012.jpg', 1),\n",
       " ('24445_2009.jpg', 1),\n",
       " ('61168_2018.jpg', 0),\n",
       " ('37761_2012.jpg', 0),\n",
       " ('24623_2009.jpg', 0),\n",
       " ('32223_2011.jpg', 1),\n",
       " ('7937_2004.jpg', 0),\n",
       " ('5819_2003.jpg', 0),\n",
       " ('12014_2005.jpg', 0),\n",
       " ('389_2000.jpg', 1),\n",
       " ('15637_2006.jpg', 0),\n",
       " ('22366_2008.jpg', 0),\n",
       " ('5489_2003.jpg', 1),\n",
       " ('26542_2009.jpg', 0),\n",
       " ('31956_2010.jpg', 0),\n",
       " ('33424_2011.jpg', 1),\n",
       " ('60509_2018.jpg', 1),\n",
       " ('41585_2013.jpg', 1),\n",
       " ('25024_2009.jpg', 0),\n",
       " ('38319_2012.jpg', 0),\n",
       " ('21600_2008.jpg', 0),\n",
       " ('16351_2006.jpg', 0),\n",
       " ('14030_2006.jpg', 1),\n",
       " ('34975_2011.jpg', 0),\n",
       " ('41915_2013.jpg', 0),\n",
       " ('23561_2008.jpg', 0),\n",
       " ('60999_2018.jpg', 1),\n",
       " ('48474_2014.jpg', 1),\n",
       " ('11572_2005.jpg', 1),\n",
       " ('40101_2012.jpg', 0),\n",
       " ('2029_2001.jpg', 0),\n",
       " ('27345_2009.jpg', 1),\n",
       " ('55339_2016.jpg', 0),\n",
       " ('44725_2013.jpg', 1),\n",
       " ('43482_2013.jpg', 0),\n",
       " ('27123_2009.jpg', 0),\n",
       " ('44543_2013.jpg', 1),\n",
       " ('23707_2008.jpg', 1),\n",
       " ('14256_2006.jpg', 0),\n",
       " ('40367_2012.jpg', 1),\n",
       " ('48612_2014.jpg', 1),\n",
       " ('11714_2005.jpg', 1),\n",
       " ('17923_2007.jpg', 0),\n",
       " ('43812_2013.jpg', 0),\n",
       " ('16137_2006.jpg', 1),\n",
       " ('21466_2008.jpg', 0),\n",
       " ('33642_2011.jpg', 1),\n",
       " ('6389_2003.jpg', 1),\n",
       " ('34783_2011.jpg', 0),\n",
       " ('25242_2009.jpg', 0),\n",
       " ('10390_2004.jpg', 1),\n",
       " ('49296_2015.jpg', 1),\n",
       " ('45954_2014.jpg', 1),\n",
       " ('18504_2007.jpg', 1),\n",
       " ('57472_2017.jpg', 0),\n",
       " ('9171_2004.jpg', 1),\n",
       " ('520_2000.jpg', 0),\n",
       " ('28194_2009.jpg', 1),\n",
       " ('54397_2016.jpg', 1),\n",
       " ('20117_2007.jpg', 1),\n",
       " ('5220_2003.jpg', 1),\n",
       " ('53256_2016.jpg', 1),\n",
       " ('28974_2010.jpg', 1),\n",
       " ('7141_2003.jpg', 1),\n",
       " ('18994_2007.jpg', 1),\n",
       " ('62242_2019.jpg', 1),\n",
       " ('3765_2002.jpg', 1),\n",
       " ('1180_2001.jpg', 1),\n",
       " ('62024_2019.jpg', 1),\n",
       " ('3503_2002.jpg', 1),\n",
       " ('51823_2015.jpg', 0),\n",
       " ('47853_2014.jpg', 1),\n",
       " ('31109_2010.jpg', 1),\n",
       " ('20858_2008.jpg', 1),\n",
       " ('20371_2007.jpg', 1),\n",
       " ('53030_2016.jpg', 1),\n",
       " ('3993_2002.jpg', 1),\n",
       " ('5046_2003.jpg', 0),\n",
       " ('18762_2007.jpg', 1),\n",
       " ('28782_2010.jpg', 0),\n",
       " ('57614_2017.jpg', 1),\n",
       " ('9317_2004.jpg', 0),\n",
       " ('746_2000.jpg', 0),\n",
       " ('14257_2006.jpg', 0),\n",
       " ('23706_2008.jpg', 0),\n",
       " ('48613_2014.jpg', 1),\n",
       " ('11715_2005.jpg', 0),\n",
       " ('40366_2012.jpg', 0),\n",
       " ('27122_2009.jpg', 1),\n",
       " ('43483_2013.jpg', 1),\n",
       " ('44542_2013.jpg', 1),\n",
       " ('33643_2011.jpg', 1),\n",
       " ('6388_2003.jpg', 1),\n",
       " ('10391_2004.jpg', 0),\n",
       " ('49297_2015.jpg', 1),\n",
       " ('34782_2011.jpg', 1),\n",
       " ('25243_2009.jpg', 0),\n",
       " ('17922_2007.jpg', 0),\n",
       " ('21467_2008.jpg', 0),\n",
       " ('43813_2013.jpg', 1),\n",
       " ('16136_2006.jpg', 1),\n",
       " ('38318_2012.jpg', 1),\n",
       " ('16350_2006.jpg', 1),\n",
       " ('21601_2008.jpg', 0),\n",
       " ('33425_2011.jpg', 0),\n",
       " ('60508_2018.jpg', 0),\n",
       " ('25025_2009.jpg', 1),\n",
       " ('41584_2013.jpg', 1),\n",
       " ('27344_2009.jpg', 0),\n",
       " ('55338_2016.jpg', 0),\n",
       " ('44724_2013.jpg', 1),\n",
       " ('23560_2008.jpg', 1),\n",
       " ('34974_2011.jpg', 1),\n",
       " ('14031_2006.jpg', 1),\n",
       " ('41914_2013.jpg', 1)]"
      ]
     },
     "execution_count": 26,
     "metadata": {},
     "output_type": "execute_result"
    }
   ],
   "source": [
    "zipped"
   ]
  },
  {
   "cell_type": "code",
   "execution_count": 28,
   "id": "e4c4f7cb",
   "metadata": {},
   "outputs": [
    {
     "data": {
      "text/html": [
       "<div>\n",
       "<style scoped>\n",
       "    .dataframe tbody tr th:only-of-type {\n",
       "        vertical-align: middle;\n",
       "    }\n",
       "\n",
       "    .dataframe tbody tr th {\n",
       "        vertical-align: top;\n",
       "    }\n",
       "\n",
       "    .dataframe thead th {\n",
       "        text-align: right;\n",
       "    }\n",
       "</style>\n",
       "<table border=\"1\" class=\"dataframe\">\n",
       "  <thead>\n",
       "    <tr style=\"text-align: right;\">\n",
       "      <th></th>\n",
       "      <th>file</th>\n",
       "      <th>hair_len</th>\n",
       "    </tr>\n",
       "  </thead>\n",
       "  <tbody>\n",
       "    <tr>\n",
       "      <th>0</th>\n",
       "      <td>4426_2003.jpg</td>\n",
       "      <td>1</td>\n",
       "    </tr>\n",
       "    <tr>\n",
       "      <th>1</th>\n",
       "      <td>38921_2012.jpg</td>\n",
       "      <td>1</td>\n",
       "    </tr>\n",
       "    <tr>\n",
       "      <th>2</th>\n",
       "      <td>55591_2016.jpg</td>\n",
       "      <td>0</td>\n",
       "    </tr>\n",
       "    <tr>\n",
       "      <th>3</th>\n",
       "      <td>8777_2004.jpg</td>\n",
       "      <td>1</td>\n",
       "    </tr>\n",
       "    <tr>\n",
       "      <th>4</th>\n",
       "      <td>56274_2017.jpg</td>\n",
       "      <td>0</td>\n",
       "    </tr>\n",
       "  </tbody>\n",
       "</table>\n",
       "</div>"
      ],
      "text/plain": [
       "             file  hair_len\n",
       "0   4426_2003.jpg         1\n",
       "1  38921_2012.jpg         1\n",
       "2  55591_2016.jpg         0\n",
       "3   8777_2004.jpg         1\n",
       "4  56274_2017.jpg         0"
      ]
     },
     "execution_count": 28,
     "metadata": {},
     "output_type": "execute_result"
    }
   ],
   "source": [
    "df = pd.DataFrame(zipped)\n",
    "df.columns = ['file', 'hair_len']\n",
    "df.head()"
   ]
  },
  {
   "cell_type": "code",
   "execution_count": 29,
   "id": "68a1cf2b",
   "metadata": {},
   "outputs": [
    {
     "data": {
      "text/plain": [
       "1    115\n",
       "0     85\n",
       "Name: hair_len, dtype: int64"
      ]
     },
     "execution_count": 29,
     "metadata": {},
     "output_type": "execute_result"
    }
   ],
   "source": [
    "df['hair_len'].value_counts()"
   ]
  },
  {
   "cell_type": "code",
   "execution_count": 30,
   "id": "4bf246ef",
   "metadata": {},
   "outputs": [],
   "source": [
    "df.to_csv('with_label.csv')"
   ]
  },
  {
   "cell_type": "markdown",
   "id": "bc972a29",
   "metadata": {},
   "source": [
    "# Access labeled data with csv file"
   ]
  },
  {
   "cell_type": "code",
   "execution_count": 4,
   "id": "efccfd34",
   "metadata": {},
   "outputs": [],
   "source": [
    "images = []\n",
    "\n",
    "for file in files:\n",
    "    image = PIL.Image.open('images/' + file)\n",
    "    image = image.resize((28, 28))\n",
    "    images.append(np.array(image) / 255.0)"
   ]
  },
  {
   "cell_type": "code",
   "execution_count": 5,
   "id": "18ace99d",
   "metadata": {},
   "outputs": [
    {
     "data": {
      "text/plain": [
       "(63565, 28, 28, 3)"
      ]
     },
     "execution_count": 5,
     "metadata": {},
     "output_type": "execute_result"
    }
   ],
   "source": [
    "np.array(images).shape"
   ]
  },
  {
   "cell_type": "code",
   "execution_count": 35,
   "id": "60c13f6f",
   "metadata": {},
   "outputs": [],
   "source": [
    "train_dataset = tf.data.Dataset.from_tensor_slices(images).shuffle(63565).batch(256)"
   ]
  },
  {
   "cell_type": "code",
   "execution_count": 6,
   "id": "67cae12e",
   "metadata": {},
   "outputs": [],
   "source": [
    "generator = models.Sequential()\n",
    "\n",
    "generator.add(layers.Dense(7*7*256, use_bias=False, input_shape=(100,)))\n",
    "generator.add(layers.BatchNormalization())\n",
    "generator.add(layers.LeakyReLU())\n",
    "\n",
    "generator.add(layers.Reshape((7, 7, 256)))\n",
    "assert generator.output_shape == (None, 7, 7, 256)  # Note: None is the batch size\n",
    "\n",
    "generator.add(layers.Conv2DTranspose(128, (5, 5), strides=(1, 1), padding='same', use_bias=False))\n",
    "assert generator.output_shape == (None, 7, 7, 128)\n",
    "generator.add(layers.BatchNormalization())\n",
    "generator.add(layers.LeakyReLU())\n",
    "\n",
    "generator.add(layers.Conv2DTranspose(64, (5, 5), strides=(2, 2), padding='same', use_bias=False))\n",
    "assert generator.output_shape == (None, 14, 14, 64)\n",
    "generator.add(layers.BatchNormalization())\n",
    "generator.add(layers.LeakyReLU())\n",
    "\n",
    "generator.add(layers.Conv2DTranspose(3, (5, 5), strides=(2, 2), padding='same', use_bias=False, activation='tanh'))\n",
    "assert generator.output_shape == (None, 28, 28, 3)"
   ]
  },
  {
   "cell_type": "code",
   "execution_count": 7,
   "id": "e4a85a12",
   "metadata": {},
   "outputs": [],
   "source": [
    "noise = tf.random.normal([1, 100])\n",
    "generated_image = generator(noise, training=False)\n",
    "\n"
   ]
  },
  {
   "cell_type": "code",
   "execution_count": 8,
   "id": "5757b172",
   "metadata": {},
   "outputs": [
    {
     "data": {
      "text/plain": [
       "<matplotlib.image.AxesImage at 0x7fb3b00b5d90>"
      ]
     },
     "execution_count": 8,
     "metadata": {},
     "output_type": "execute_result"
    },
    {
     "data": {
      "image/png": "[encoded data removed]",
      "text/plain": [
       "<Figure size 432x288 with 1 Axes>"
      ]
     },
     "metadata": {
      "needs_background": "light"
     },
     "output_type": "display_data"
    }
   ],
   "source": [
    "plt.imshow(generated_image[0, :, :, 0], cmap='gray')"
   ]
  },
  {
   "cell_type": "code",
   "execution_count": 49,
   "id": "27a9597b",
   "metadata": {},
   "outputs": [],
   "source": [
    "discriminator = tf.keras.Sequential()\n",
    "discriminator.add(layers.Conv2D(64, (5, 5), strides=(2, 2), padding='same',\n",
    "                                 input_shape=[28, 28, 3]))\n",
    "discriminator.add(layers.LeakyReLU())\n",
    "discriminator.add(layers.Dropout(0.3))\n",
    "\n",
    "discriminator.add(layers.Conv2D(128, (5, 5), strides=(2, 2), padding='same'))\n",
    "discriminator.add(layers.LeakyReLU())\n",
    "discriminator.add(layers.Dropout(0.3))\n",
    "\n",
    "discriminator.add(layers.Flatten())\n",
    "discriminator.add(layers.Dense(1))"
   ]
  },
  {
   "cell_type": "code",
   "execution_count": 51,
   "id": "559c262f",
   "metadata": {},
   "outputs": [
    {
     "name": "stdout",
     "output_type": "stream",
     "text": [
      "tf.Tensor([[-0.00439999]], shape=(1, 1), dtype=float32)\n"
     ]
    }
   ],
   "source": [
    "decision = discriminator(generated_image)\n",
    "print (decision)"
   ]
  },
  {
   "cell_type": "code",
   "execution_count": 10,
   "id": "0c0b0d29",
   "metadata": {},
   "outputs": [],
   "source": [
    "cross_entropy = tf.keras.losses.BinaryCrossentropy(from_logits=True)"
   ]
  },
  {
   "cell_type": "code",
   "execution_count": 11,
   "id": "1467f315",
   "metadata": {},
   "outputs": [],
   "source": [
    "def discriminator_loss(real_output, fake_output):\n",
    "    real_loss = cross_entropy(tf.ones_like(real_output), real_output)\n",
    "    fake_loss = cross_entropy(tf.zeros_like(fake_output), fake_output)\n",
    "    total_loss = real_loss + fake_loss\n",
    "    return total_loss"
   ]
  },
  {
   "cell_type": "code",
   "execution_count": 12,
   "id": "609310f4",
   "metadata": {},
   "outputs": [],
   "source": [
    "def generator_loss(fake_output):\n",
    "    return cross_entropy(tf.ones_like(fake_output), fake_output)"
   ]
  },
  {
   "cell_type": "code",
   "execution_count": 13,
   "id": "96f5c6e8",
   "metadata": {},
   "outputs": [],
   "source": [
    "generator_optimizer = tf.keras.optimizers.Adam(1e-4)\n",
    "discriminator_optimizer = tf.keras.optimizers.Adam(1e-4)"
   ]
  },
  {
   "cell_type": "code",
   "execution_count": 15,
   "id": "720b59fd",
   "metadata": {},
   "outputs": [],
   "source": [
    "checkpoint_dir = './training_checkpoints'\n",
    "checkpoint_prefix = os.path.join(checkpoint_dir, \"ckpt\")\n",
    "checkpoint = tf.train.Checkpoint(generator_optimizer=generator_optimizer,\n",
    "                                 discriminator_optimizer=discriminator_optimizer,\n",
    "                                 generator=generator,\n",
    "                                 discriminator=dis)"
   ]
  },
  {
   "cell_type": "code",
   "execution_count": 16,
   "id": "19b1cf1a",
   "metadata": {},
   "outputs": [],
   "source": [
    "EPOCHS = 50\n",
    "noise_dim = 100\n",
    "num_examples_to_generate = 16\n",
    "\n",
    "# You will reuse this seed overtime (so it's easier)\n",
    "# to visualize progress in the animated GIF)\n",
    "seed = tf.random.normal([num_examples_to_generate, noise_dim])"
   ]
  },
  {
   "cell_type": "code",
   "execution_count": 27,
   "id": "b4532538",
   "metadata": {},
   "outputs": [],
   "source": [
    "def generate_and_save_images(model, epoch, test_input):\n",
    "  # Notice `training` is set to False.\n",
    "  # This is so all layers run in inference mode (batchnorm).\n",
    "    predictions = model(test_input, training=False)\n",
    "\n",
    "    fig = plt.figure(figsize=(4, 4))\n",
    "\n",
    "    for i in range(predictions.shape[0]):\n",
    "        plt.subplot(4, 4, i+1)\n",
    "        plt.imshow(predictions[i, :, :, 0] * 127.5 + 127.5, cmap='gray')\n",
    "        plt.axis('off')\n",
    "    \n",
    "    plt.savefig('image_at_epoch_{:04d}.png'.format(epoch))\n",
    "    plt.show()"
   ]
  },
  {
   "cell_type": "code",
   "execution_count": 53,
   "id": "9f20344d",
   "metadata": {},
   "outputs": [],
   "source": [
    "# Notice the use of `tf.function`\n",
    "# This annotation causes the function to be \"compiled\".\n",
    "@tf.function\n",
    "def train_step(images):\n",
    "    noise = tf.random.normal([256, noise_dim])\n",
    "\n",
    "\n",
    "    with tf.GradientTape() as gen_tape, tf.GradientTape() as disc_tape:\n",
    "\n",
    "\n",
    "        generated_images = generator(noise, training=True)\n",
    "    \n",
    "\n",
    "        real_output = discriminator(images, training=True)\n",
    "\n",
    "\n",
    "        fake_output = discriminator(generated_images, training=True)\n",
    "\n",
    "\n",
    "        gen_loss = generator_loss(fake_output)\n",
    "        disc_loss = discriminator_loss(real_output, fake_output)\n",
    "\n",
    "    gradients_of_generator = gen_tape.gradient(gen_loss, generator.trainable_variables)\n",
    "    gradients_of_discriminator = disc_tape.gradient(disc_loss, discriminator.trainable_variables)\n",
    "\n",
    "    generator_optimizer.apply_gradients(zip(gradients_of_generator, generator.trainable_variables))\n",
    "    discriminator_optimizer.apply_gradients(zip(gradients_of_discriminator, discriminator.trainable_variables))"
   ]
  },
  {
   "cell_type": "code",
   "execution_count": 54,
   "id": "9acd3f6c",
   "metadata": {},
   "outputs": [],
   "source": [
    "def train(dataset, epochs):\n",
    "    for epoch in range(epochs):\n",
    "        start = time.time()\n",
    "\n",
    "        for image_batch in dataset:\n",
    "            train_step(image_batch)\n",
    "\n",
    "        # Produce images for the GIF as you go\n",
    "        display.clear_output(wait=True)\n",
    "        generate_and_save_images(generator,\n",
    "                                 epoch + 1,\n",
    "                                 seed)\n",
    "\n",
    "        # Save the model every 15 epochs\n",
    "        if (epoch + 1) % 15 == 0:\n",
    "            checkpoint.save(file_prefix = checkpoint_prefix)\n",
    "\n",
    "        print ('Time for epoch {} is {} sec'.format(epoch + 1, time.time()-start))\n",
    "\n",
    "        # Generate after the final epoch\n",
    "        display.clear_output(wait=True)\n",
    "        generate_and_save_images(generator,\n",
    "                               epochs,\n",
    "                               seed)"
   ]
  },
  {
   "cell_type": "code",
   "execution_count": null,
   "id": "faef0ba5",
   "metadata": {
    "scrolled": false
   },
   "outputs": [],
   "source": [
    "train(train_dataset, 50)"
   ]
  },
  {
   "cell_type": "code",
   "execution_count": null,
   "id": "ebd703b2",
   "metadata": {},
   "outputs": [],
   "source": []
  }
 ],
 "metadata": {
  "kernelspec": {
   "display_name": "Python 3",
   "language": "python",
   "name": "python3"
  },
  "language_info": {
   "codemirror_mode": {
    "name": "ipython",
    "version": 3
   },
   "file_extension": ".py",
   "mimetype": "text/x-python",
   "name": "python",
   "nbconvert_exporter": "python",
   "pygments_lexer": "ipython3",
   "version": "3.7.10"
  }
 },
 "nbformat": 4,
 "nbformat_minor": 5
}
